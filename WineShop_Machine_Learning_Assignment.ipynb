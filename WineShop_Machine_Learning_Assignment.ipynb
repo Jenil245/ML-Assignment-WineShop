{
 "cells": [
  {
   "cell_type": "markdown",
   "metadata": {
    "colab_type": "text",
    "id": "wadUymmRwpcY"
   },
   "source": [
    "Here We have dataset of online wine selling store\n",
    "\n",
    "Problem Statement:\n",
    "<ul><li>\n",
    "Analysis Of Data</li>\n",
    "<li>\n",
    "Build predictive model for variety of grapes which is used in wine based on available features</li></ul>"
   ]
  },
  {
   "cell_type": "code",
   "execution_count": 0,
   "metadata": {
    "colab": {},
    "colab_type": "code",
    "id": "QRzkgmcPko4b"
   },
   "outputs": [],
   "source": [
    "import pandas as pd\n",
    "import numpy as np\n",
    "import matplotlib.pyplot as plt\n",
    "import seaborn as sns\n",
    "import scipy.stats as stat\n",
    "from sklearn.preprocessing import OneHotEncoder\n",
    "from sklearn.preprocessing import LabelEncoder\n",
    "from sklearn.model_selection import train_test_split\n",
    "from sklearn.feature_extraction.text import CountVectorizer\n",
    "from sklearn.naive_bayes import BernoulliNB\n",
    "from catboost import CatBoostClassifier, Pool\n",
    "import nltk\n",
    "from nltk.tokenize import word_tokenize\n",
    "from nltk.corpus import stopwords\n",
    "import re\n",
    "stop_words=set(stopwords.words('english'))"
   ]
  },
  {
   "cell_type": "code",
   "execution_count": 0,
   "metadata": {
    "colab": {},
    "colab_type": "code",
    "id": "62zujaT3ko4k"
   },
   "outputs": [],
   "source": [
    "train_data = pd.read_csv(\"C:/Users/RetailAdmin/Desktop/Knight ML Assignment/Data/train.csv\")"
   ]
  },
  {
   "cell_type": "code",
   "execution_count": 0,
   "metadata": {
    "colab": {},
    "colab_type": "code",
    "id": "oCuNdzpoq7YN"
   },
   "outputs": [],
   "source": [
    "test_data = pd.read_csv(\"C:/Users/RetailAdmin/Desktop/Knight ML Assignment/Data/test.csv\")"
   ]
  },
  {
   "cell_type": "markdown",
   "metadata": {
    "colab_type": "text",
    "id": "K1f3yvbIx5yf"
   },
   "source": [
    "<b>The Data Description is as follows:</b>\n",
    "\n",
    "•\tuser_name - user_name of the reviewer\n",
    "\n",
    "•\tcountry -The country that the wine is from.\n",
    "\n",
    "•\treview_title - The title of the wine review, which often contains the vintage.\n",
    "\n",
    "•\treview_description - A verbose review of the wine.\n",
    "\n",
    "•\tdesignation - The vineyard within the winery where the grapes that made the wine are from.\n",
    "\n",
    "•\tpoints - ratings given by the user. The ratings are between 0 -100.\n",
    "\n",
    "•\tprice - The cost for a bottle of the wine\n",
    "\n",
    "•\tprovince - The province or state that the wine is from.\n",
    "\n",
    "•\tregion_1 - The wine-growing area in a province or state (ie Napa).\n",
    "\n",
    "•\tregion_2 - Sometimes there are more specific regions specified within a wine-growing area (ie Rutherford inside the Napa Valley), but this value can sometimes be blank.\n",
    "\n",
    "•\twinery - The winery that made the wine\n",
    "\n",
    "•\tvariety - The type of grapes used to make the wine. Dependent variable for problem statement\n"
   ]
  },
  {
   "cell_type": "markdown",
   "metadata": {
    "colab_type": "text",
    "id": "bvDRDL_0ko4r"
   },
   "source": [
    "# DATA EXPLORATION"
   ]
  },
  {
   "cell_type": "code",
   "execution_count": 7,
   "metadata": {
    "colab": {
     "base_uri": "https://localhost:8080/",
     "height": 346
    },
    "colab_type": "code",
    "id": "JaBi3YqRko4s",
    "outputId": "d3df079a-72d9-4f60-d329-0f71f69fd974"
   },
   "outputs": [
    {
     "data": {
      "text/html": [
       "<div>\n",
       "<style scoped>\n",
       "    .dataframe tbody tr th:only-of-type {\n",
       "        vertical-align: middle;\n",
       "    }\n",
       "\n",
       "    .dataframe tbody tr th {\n",
       "        vertical-align: top;\n",
       "    }\n",
       "\n",
       "    .dataframe thead th {\n",
       "        text-align: right;\n",
       "    }\n",
       "</style>\n",
       "<table border=\"1\" class=\"dataframe\">\n",
       "  <thead>\n",
       "    <tr style=\"text-align: right;\">\n",
       "      <th></th>\n",
       "      <th>user_name</th>\n",
       "      <th>country</th>\n",
       "      <th>review_title</th>\n",
       "      <th>review_description</th>\n",
       "      <th>designation</th>\n",
       "      <th>points</th>\n",
       "      <th>price</th>\n",
       "      <th>province</th>\n",
       "      <th>region_1</th>\n",
       "      <th>region_2</th>\n",
       "      <th>winery</th>\n",
       "      <th>variety</th>\n",
       "    </tr>\n",
       "  </thead>\n",
       "  <tbody>\n",
       "    <tr>\n",
       "      <th>0</th>\n",
       "      <td>NaN</td>\n",
       "      <td>Australia</td>\n",
       "      <td>Andrew Peace 2007 Peace Family Vineyard Chardo...</td>\n",
       "      <td>Classic Chardonnay aromas of apple, pear and h...</td>\n",
       "      <td>Peace Family Vineyard</td>\n",
       "      <td>83</td>\n",
       "      <td>10.0</td>\n",
       "      <td>Australia Other</td>\n",
       "      <td>South Eastern Australia</td>\n",
       "      <td>NaN</td>\n",
       "      <td>Andrew Peace</td>\n",
       "      <td>Chardonnay</td>\n",
       "    </tr>\n",
       "    <tr>\n",
       "      <th>1</th>\n",
       "      <td>@wawinereport</td>\n",
       "      <td>US</td>\n",
       "      <td>North by Northwest 2014 Red (Columbia Valley (...</td>\n",
       "      <td>This wine is near equal parts Syrah and Merlot...</td>\n",
       "      <td>NaN</td>\n",
       "      <td>89</td>\n",
       "      <td>15.0</td>\n",
       "      <td>Washington</td>\n",
       "      <td>Columbia Valley (WA)</td>\n",
       "      <td>Columbia Valley</td>\n",
       "      <td>North by Northwest</td>\n",
       "      <td>Red Blend</td>\n",
       "    </tr>\n",
       "    <tr>\n",
       "      <th>2</th>\n",
       "      <td>NaN</td>\n",
       "      <td>Italy</td>\n",
       "      <td>Renato Ratti 2007 Conca  (Barolo)</td>\n",
       "      <td>Barolo Conca opens with inky dark concentratio...</td>\n",
       "      <td>Conca</td>\n",
       "      <td>94</td>\n",
       "      <td>80.0</td>\n",
       "      <td>Piedmont</td>\n",
       "      <td>Barolo</td>\n",
       "      <td>NaN</td>\n",
       "      <td>Renato Ratti</td>\n",
       "      <td>Nebbiolo</td>\n",
       "    </tr>\n",
       "    <tr>\n",
       "      <th>3</th>\n",
       "      <td>@vossroger</td>\n",
       "      <td>France</td>\n",
       "      <td>Domaine l'Ancienne Cure 2010 L'Abbaye White (B...</td>\n",
       "      <td>It's impressive what a small addition of Sauvi...</td>\n",
       "      <td>L'Abbaye</td>\n",
       "      <td>87</td>\n",
       "      <td>22.0</td>\n",
       "      <td>Southwest France</td>\n",
       "      <td>Bergerac Sec</td>\n",
       "      <td>NaN</td>\n",
       "      <td>Domaine l'Ancienne Cure</td>\n",
       "      <td>Bordeaux-style White Blend</td>\n",
       "    </tr>\n",
       "    <tr>\n",
       "      <th>4</th>\n",
       "      <td>@vossroger</td>\n",
       "      <td>France</td>\n",
       "      <td>Château du Cèdre 2012 Le Cèdre Vintage Malbec ...</td>\n",
       "      <td>This ripe, sweet wine is rich and full of drie...</td>\n",
       "      <td>Le Cèdre Vintage</td>\n",
       "      <td>88</td>\n",
       "      <td>33.0</td>\n",
       "      <td>France Other</td>\n",
       "      <td>Vin de Liqueur</td>\n",
       "      <td>NaN</td>\n",
       "      <td>Château du Cèdre</td>\n",
       "      <td>Malbec</td>\n",
       "    </tr>\n",
       "  </tbody>\n",
       "</table>\n",
       "</div>"
      ],
      "text/plain": [
       "       user_name  ...                     variety\n",
       "0            NaN  ...                  Chardonnay\n",
       "1  @wawinereport  ...                   Red Blend\n",
       "2            NaN  ...                    Nebbiolo\n",
       "3     @vossroger  ...  Bordeaux-style White Blend\n",
       "4     @vossroger  ...                      Malbec\n",
       "\n",
       "[5 rows x 12 columns]"
      ]
     },
     "execution_count": 7,
     "metadata": {
      "tags": []
     },
     "output_type": "execute_result"
    }
   ],
   "source": [
    "train_data.head()"
   ]
  },
  {
   "cell_type": "code",
   "execution_count": 8,
   "metadata": {
    "colab": {
     "base_uri": "https://localhost:8080/",
     "height": 336
    },
    "colab_type": "code",
    "id": "rXqvsiN1ko4z",
    "outputId": "be138135-fc6c-4039-a2ad-218979b12728"
   },
   "outputs": [
    {
     "name": "stdout",
     "output_type": "stream",
     "text": [
      "<class 'pandas.core.frame.DataFrame'>\n",
      "RangeIndex: 82657 entries, 0 to 82656\n",
      "Data columns (total 12 columns):\n",
      " #   Column              Non-Null Count  Dtype  \n",
      "---  ------              --------------  -----  \n",
      " 0   user_name           63264 non-null  object \n",
      " 1   country             82622 non-null  object \n",
      " 2   review_title        82657 non-null  object \n",
      " 3   review_description  82657 non-null  object \n",
      " 4   designation         59010 non-null  object \n",
      " 5   points              82657 non-null  int64  \n",
      " 6   price               77088 non-null  float64\n",
      " 7   province            82622 non-null  object \n",
      " 8   region_1            69903 non-null  object \n",
      " 9   region_2            35949 non-null  object \n",
      " 10  winery              82657 non-null  object \n",
      " 11  variety             82657 non-null  object \n",
      "dtypes: float64(1), int64(1), object(10)\n",
      "memory usage: 7.6+ MB\n"
     ]
    }
   ],
   "source": [
    "train_data.info()"
   ]
  },
  {
   "cell_type": "markdown",
   "metadata": {
    "colab_type": "text",
    "id": "5xPNh4AIyTBv"
   },
   "source": [
    "<b>We have total 82657 rows and 12 columns</b>\n",
    "\n",
    "We have only two numerical feature, all remaining ten columns are categorical.\n",
    "\n",
    "There are also <b>null values</b> in some of the column which we will handle later."
   ]
  },
  {
   "cell_type": "code",
   "execution_count": 9,
   "metadata": {
    "colab": {
     "base_uri": "https://localhost:8080/",
     "height": 284
    },
    "colab_type": "code",
    "id": "FYQm-a4tko46",
    "outputId": "64863717-ff4e-4e7f-cc64-6f98a5163a97"
   },
   "outputs": [
    {
     "data": {
      "text/html": [
       "<div>\n",
       "<style scoped>\n",
       "    .dataframe tbody tr th:only-of-type {\n",
       "        vertical-align: middle;\n",
       "    }\n",
       "\n",
       "    .dataframe tbody tr th {\n",
       "        vertical-align: top;\n",
       "    }\n",
       "\n",
       "    .dataframe thead th {\n",
       "        text-align: right;\n",
       "    }\n",
       "</style>\n",
       "<table border=\"1\" class=\"dataframe\">\n",
       "  <thead>\n",
       "    <tr style=\"text-align: right;\">\n",
       "      <th></th>\n",
       "      <th>points</th>\n",
       "      <th>price</th>\n",
       "    </tr>\n",
       "  </thead>\n",
       "  <tbody>\n",
       "    <tr>\n",
       "      <th>count</th>\n",
       "      <td>82657.000000</td>\n",
       "      <td>77088.000000</td>\n",
       "    </tr>\n",
       "    <tr>\n",
       "      <th>mean</th>\n",
       "      <td>88.544564</td>\n",
       "      <td>36.922232</td>\n",
       "    </tr>\n",
       "    <tr>\n",
       "      <th>std</th>\n",
       "      <td>3.099649</td>\n",
       "      <td>43.698346</td>\n",
       "    </tr>\n",
       "    <tr>\n",
       "      <th>min</th>\n",
       "      <td>80.000000</td>\n",
       "      <td>4.000000</td>\n",
       "    </tr>\n",
       "    <tr>\n",
       "      <th>25%</th>\n",
       "      <td>86.000000</td>\n",
       "      <td>18.000000</td>\n",
       "    </tr>\n",
       "    <tr>\n",
       "      <th>50%</th>\n",
       "      <td>88.000000</td>\n",
       "      <td>27.000000</td>\n",
       "    </tr>\n",
       "    <tr>\n",
       "      <th>75%</th>\n",
       "      <td>91.000000</td>\n",
       "      <td>45.000000</td>\n",
       "    </tr>\n",
       "    <tr>\n",
       "      <th>max</th>\n",
       "      <td>100.000000</td>\n",
       "      <td>3300.000000</td>\n",
       "    </tr>\n",
       "  </tbody>\n",
       "</table>\n",
       "</div>"
      ],
      "text/plain": [
       "             points         price\n",
       "count  82657.000000  77088.000000\n",
       "mean      88.544564     36.922232\n",
       "std        3.099649     43.698346\n",
       "min       80.000000      4.000000\n",
       "25%       86.000000     18.000000\n",
       "50%       88.000000     27.000000\n",
       "75%       91.000000     45.000000\n",
       "max      100.000000   3300.000000"
      ]
     },
     "execution_count": 9,
     "metadata": {
      "tags": []
     },
     "output_type": "execute_result"
    }
   ],
   "source": [
    "train_data.describe()"
   ]
  },
  {
   "cell_type": "markdown",
   "metadata": {
    "colab_type": "text",
    "id": "ty8lTX-yy0tR"
   },
   "source": [
    "<b>Minimum value for points is 80 which means all wines are basically good.\n",
    "\n",
    "Online Wine store sells wine as cheap as 4 dollar and as costly as 3300 dollar</b>"
   ]
  },
  {
   "cell_type": "code",
   "execution_count": 10,
   "metadata": {
    "colab": {
     "base_uri": "https://localhost:8080/",
     "height": 521
    },
    "colab_type": "code",
    "id": "1gtTWs35ko5B",
    "outputId": "30a7a0f7-3453-4d6d-99cf-f8c179f75f3d"
   },
   "outputs": [
    {
     "name": "stdout",
     "output_type": "stream",
     "text": [
      "Total Unique Variety : 28\n",
      "Pinot Noir                    10587\n",
      "Chardonnay                     9403\n",
      "Cabernet Sauvignon             7552\n",
      "Red Blend                      7166\n",
      "Bordeaux-style Red Blend       5497\n",
      "Riesling                       4148\n",
      "Sauvignon Blanc                4011\n",
      "Syrah                          3316\n",
      "Rosé                           2831\n",
      "Merlot                         2471\n",
      "Nebbiolo                       2242\n",
      "Zinfandel                      2209\n",
      "Sangiovese                     2165\n",
      "Malbec                         2119\n",
      "Portuguese Red                 1969\n",
      "White Blend                    1896\n",
      "Sparkling Blend                1739\n",
      "Tempranillo                    1448\n",
      "Rhône-style Red Blend          1182\n",
      "Pinot Gris                     1148\n",
      "Champagne Blend                1133\n",
      "Cabernet Franc                 1095\n",
      "Grüner Veltliner               1055\n",
      "Portuguese White                896\n",
      "Pinot Grigio                    873\n",
      "Bordeaux-style White Blend      850\n",
      "Gewürztraminer                  840\n",
      "Gamay                           816\n",
      "Name: variety, dtype: int64\n"
     ]
    }
   ],
   "source": [
    "print(\"Total Unique Variety :\",train_data['variety'].nunique())\n",
    "\n",
    "print(train_data['variety'].value_counts())"
   ]
  },
  {
   "cell_type": "markdown",
   "metadata": {
    "colab_type": "text",
    "id": "yid_w0U7zZ0p"
   },
   "source": [
    "Our target variable has total <b>28 categories</b> which means it is a really complex problem\n",
    "\n",
    "<b>We could combine some lables based on similarity like Red Blend and White Blend But I will keep all the lable since We do not have more information about owners need.</b>"
   ]
  },
  {
   "cell_type": "code",
   "execution_count": 11,
   "metadata": {
    "colab": {
     "base_uri": "https://localhost:8080/",
     "height": 470
    },
    "colab_type": "code",
    "id": "wAiYXN4sko5G",
    "outputId": "58885edf-02f3-4a9c-e1d4-9d3ef5a77c31"
   },
   "outputs": [
    {
     "name": "stdout",
     "output_type": "stream",
     "text": [
      "user_name             19393\n",
      "country                  35\n",
      "review_title              0\n",
      "review_description        0\n",
      "designation           23647\n",
      "points                    0\n",
      "price                  5569\n",
      "province                 35\n",
      "region_1              12754\n",
      "region_2              46708\n",
      "winery                    0\n",
      "variety                   0\n",
      "dtype: int64 \n",
      "\n",
      "\n",
      "user_name              4738\n",
      "country                   4\n",
      "review_title              0\n",
      "review_description        0\n",
      "designation            5989\n",
      "points                    0\n",
      "price                  1394\n",
      "province                  4\n",
      "region_1               3314\n",
      "region_2              11751\n",
      "winery                    0\n",
      "dtype: int64\n"
     ]
    }
   ],
   "source": [
    "print(train_data.isnull().sum(),\"\\n\\n\")\n",
    "\n",
    "print(test_data.isnull().sum())"
   ]
  },
  {
   "cell_type": "markdown",
   "metadata": {
    "colab_type": "text",
    "id": "9xV337Se0KiJ"
   },
   "source": [
    "There are too many null values,  now let's decide how we will handle them"
   ]
  },
  {
   "cell_type": "markdown",
   "metadata": {
    "colab_type": "text",
    "id": "_NdeUuPoko5M"
   },
   "source": [
    "# DATA PREPROCESSING"
   ]
  },
  {
   "cell_type": "markdown",
   "metadata": {
    "colab_type": "text",
    "id": "qdlU8zJ5ko5N"
   },
   "source": [
    "#### Let's first see numeric variables"
   ]
  },
  {
   "cell_type": "code",
   "execution_count": 12,
   "metadata": {
    "colab": {
     "base_uri": "https://localhost:8080/",
     "height": 296
    },
    "colab_type": "code",
    "id": "JPOB_ciLko5O",
    "outputId": "834884ca-b85b-4745-dfa7-6e507e547714"
   },
   "outputs": [
    {
     "data": {
      "text/plain": [
       "<matplotlib.axes._subplots.AxesSubplot at 0x7f8d5fcfed30>"
      ]
     },
     "execution_count": 12,
     "metadata": {
      "tags": []
     },
     "output_type": "execute_result"
    },
    {
     "data": {
      "image/png": "[encoded data removed]",
      "text/plain": [
       "<Figure size 432x288 with 1 Axes>"
      ]
     },
     "metadata": {
      "needs_background": "light",
      "tags": []
     },
     "output_type": "display_data"
    }
   ],
   "source": [
    "sns.boxplot(train_data['price'])"
   ]
  },
  {
   "cell_type": "code",
   "execution_count": 13,
   "metadata": {
    "colab": {
     "base_uri": "https://localhost:8080/",
     "height": 296
    },
    "colab_type": "code",
    "id": "HkMBDmi_ko5R",
    "outputId": "aa914e25-457f-4d1d-9d77-c6b37a6e0c11"
   },
   "outputs": [
    {
     "data": {
      "text/plain": [
       "<matplotlib.axes._subplots.AxesSubplot at 0x7f8d5fbe5048>"
      ]
     },
     "execution_count": 13,
     "metadata": {
      "tags": []
     },
     "output_type": "execute_result"
    },
    {
     "data": {
      "image/png": "[encoded data removed]",
      "text/plain": [
       "<Figure size 432x288 with 1 Axes>"
      ]
     },
     "metadata": {
      "needs_background": "light",
      "tags": []
     },
     "output_type": "display_data"
    }
   ],
   "source": [
    "sns.distplot(train_data['price'], kde=True)"
   ]
  },
  {
   "cell_type": "markdown",
   "metadata": {
    "colab_type": "text",
    "id": "isivWNPoko5U"
   },
   "source": [
    "<b>We can see that most of wine bottel has price under 500</b> \n",
    "\n",
    "There are too many outliers and it is possible that those data point is a mistake and even if it's not a mistake we will <b>replace</b> them because they impact our model badly and we also fill null values with <b>median</b> since data is \n",
    "<b>right skewed</b> ,so mean will not be good for central measure."
   ]
  },
  {
   "cell_type": "code",
   "execution_count": 14,
   "metadata": {
    "colab": {
     "base_uri": "https://localhost:8080/",
     "height": 296
    },
    "colab_type": "code",
    "id": "9QP-EmD5ko5V",
    "outputId": "9e3014d4-ac75-407c-aea3-3dc04ecec6e6"
   },
   "outputs": [
    {
     "data": {
      "text/plain": [
       "<matplotlib.axes._subplots.AxesSubplot at 0x7f8d5f6ac518>"
      ]
     },
     "execution_count": 14,
     "metadata": {
      "tags": []
     },
     "output_type": "execute_result"
    },
    {
     "data": {
      "image/png": "[encoded data removed]",
      "text/plain": [
       "<Figure size 432x288 with 1 Axes>"
      ]
     },
     "metadata": {
      "needs_background": "light",
      "tags": []
     },
     "output_type": "display_data"
    }
   ],
   "source": [
    "sns.boxplot(train_data['points'])"
   ]
  },
  {
   "cell_type": "code",
   "execution_count": 15,
   "metadata": {
    "colab": {
     "base_uri": "https://localhost:8080/",
     "height": 34
    },
    "colab_type": "code",
    "id": "kWS99PdHko5X",
    "outputId": "12b4a930-56f8-4a0e-ee2b-b0d319486ed2"
   },
   "outputs": [
    {
     "name": "stdout",
     "output_type": "stream",
     "text": [
      "False\n"
     ]
    }
   ],
   "source": [
    "print((train_data['points'] > 100).any())"
   ]
  },
  {
   "cell_type": "markdown",
   "metadata": {
    "colab_type": "text",
    "id": "1QhI5dUOko5g"
   },
   "source": [
    "No errors in points data"
   ]
  },
  {
   "cell_type": "code",
   "execution_count": 16,
   "metadata": {
    "colab": {
     "base_uri": "https://localhost:8080/",
     "height": 298
    },
    "colab_type": "code",
    "id": "i0smyBvAko5h",
    "outputId": "ed832f1e-5ab0-4436-e9a3-7223847bc988"
   },
   "outputs": [
    {
     "data": {
      "text/plain": [
       "<matplotlib.axes._subplots.AxesSubplot at 0x7f8d5f610ef0>"
      ]
     },
     "execution_count": 16,
     "metadata": {
      "tags": []
     },
     "output_type": "execute_result"
    },
    {
     "data": {
      "image/png": "[encoded data removed]",
      "text/plain": [
       "<Figure size 432x288 with 1 Axes>"
      ]
     },
     "metadata": {
      "needs_background": "light",
      "tags": []
     },
     "output_type": "display_data"
    }
   ],
   "source": [
    "bins = []\n",
    "for i in range(78,101):\n",
    "    bins.append(i)\n",
    "    i+=2\n",
    "    \n",
    "sns.distplot(train_data['points'], bins = bins)"
   ]
  },
  {
   "cell_type": "markdown",
   "metadata": {
    "colab_type": "text",
    "id": "9sokyQ2rko5k"
   },
   "source": [
    "Points column has a roughly normal distribution and also it does not have any null values"
   ]
  },
  {
   "cell_type": "markdown",
   "metadata": {
    "colab_type": "text",
    "id": "RUpGpscDko5k"
   },
   "source": [
    "#### Now Let's see categorical data"
   ]
  },
  {
   "cell_type": "code",
   "execution_count": 17,
   "metadata": {
    "colab": {
     "base_uri": "https://localhost:8080/",
     "height": 118
    },
    "colab_type": "code",
    "id": "Jkz-myJ2ko5l",
    "outputId": "4230ebe6-6374-4934-c5df-82eb6af523c4"
   },
   "outputs": [
    {
     "name": "stdout",
     "output_type": "stream",
     "text": [
      "38\n",
      "26424\n",
      "358\n",
      "1019\n",
      "17\n",
      "13786\n"
     ]
    }
   ],
   "source": [
    "print(train_data['country'].nunique())\n",
    "print(train_data['designation'].nunique())\n",
    "print(train_data['province'].nunique())\n",
    "print(train_data['region_1'].nunique())\n",
    "print(train_data['region_2'].nunique())\n",
    "print(train_data['winery'].nunique())"
   ]
  },
  {
   "cell_type": "markdown",
   "metadata": {
    "colab_type": "text",
    "id": "SBut_IAzko5o"
   },
   "source": [
    "In each column, some of the label has very few records which are not sufficient enough to make any prediction so labels which have \n",
    "<b>very less</b> frequency will be replaced by <b>\"others\"</b>"
   ]
  },
  {
   "cell_type": "markdown",
   "metadata": {
    "colab_type": "text",
    "id": "ab5AERq5ko5p"
   },
   "source": [
    "We are going to keep only following values"
   ]
  },
  {
   "cell_type": "code",
   "execution_count": 18,
   "metadata": {
    "colab": {
     "base_uri": "https://localhost:8080/",
     "height": 1000
    },
    "colab_type": "code",
    "id": "InEeTuMfko5p",
    "outputId": "2f54aff8-da06-465d-e15d-63d24dbb4b69",
    "scrolled": true
   },
   "outputs": [
    {
     "data": {
      "text/plain": [
       "{'country': ['US',\n",
       "  'France',\n",
       "  'Italy',\n",
       "  'Portugal',\n",
       "  'Chile',\n",
       "  'Spain',\n",
       "  'Argentina',\n",
       "  'Austria',\n",
       "  'Germany',\n",
       "  'New Zealand'],\n",
       " 'designation': ['Reserve',\n",
       "  'Estate',\n",
       "  'Reserva',\n",
       "  'Estate Grown',\n",
       "  'Riserva',\n",
       "  'Barrel sample',\n",
       "  'Dry',\n",
       "  'Brut',\n",
       "  'Brut Rosé',\n",
       "  'Estate Bottled'],\n",
       " 'province': ['California',\n",
       "  'Washington',\n",
       "  'Bordeaux',\n",
       "  'Oregon',\n",
       "  'Tuscany',\n",
       "  'Burgundy',\n",
       "  'Mendoza Province',\n",
       "  'Piedmont',\n",
       "  'New York',\n",
       "  'Alsace'],\n",
       " 'region_1': ['Napa Valley',\n",
       "  'Columbia Valley (WA)',\n",
       "  'Russian River Valley',\n",
       "  'California',\n",
       "  'Willamette Valley',\n",
       "  'Mendoza',\n",
       "  'Alsace',\n",
       "  'Paso Robles',\n",
       "  'Champagne',\n",
       "  'Barolo'],\n",
       " 'region_2': ['Central Coast',\n",
       "  'Sonoma',\n",
       "  'Columbia Valley',\n",
       "  'Napa',\n",
       "  'Willamette Valley',\n",
       "  'California Other',\n",
       "  'Finger Lakes',\n",
       "  'Napa-Sonoma',\n",
       "  'Sierra Foothills',\n",
       "  'Central Valley'],\n",
       " 'user_name': ['@vossroger',\n",
       "  '@wineschach',\n",
       "  '@vboone',\n",
       "  '@paulgwine\\xa0',\n",
       "  '@kerinokeefe',\n",
       "  '@mattkettmann',\n",
       "  '@wawinereport',\n",
       "  '@JoeCz',\n",
       "  '@gordone_cellars',\n",
       "  '@AnneInVino'],\n",
       " 'winery': ['Testarossa',\n",
       "  'Louis Latour',\n",
       "  'Williams Selyem',\n",
       "  'Chateau Ste. Michelle',\n",
       "  'Georges Duboeuf',\n",
       "  'Wines & Winemakers',\n",
       "  'DFJ Vinhos',\n",
       "  'Columbia Crest',\n",
       "  'Concha y Toro',\n",
       "  'Kendall-Jackson']}"
      ]
     },
     "execution_count": 18,
     "metadata": {
      "tags": []
     },
     "output_type": "execute_result"
    }
   ],
   "source": [
    "top_values = {}\n",
    "for column in ['user_name', 'country', 'designation', 'province', 'region_1', 'region_2', 'winery']:\n",
    "    top_10 = list(train_data[column].value_counts().sort_values(ascending = False)[:10].index)\n",
    "    top_values[column] = top_10\n",
    "\n",
    "top_values"
   ]
  },
  {
   "cell_type": "code",
   "execution_count": 19,
   "metadata": {
    "colab": {
     "base_uri": "https://localhost:8080/",
     "height": 218
    },
    "colab_type": "code",
    "id": "fNbXoyHbko5s",
    "outputId": "efba1f78-9bab-47ec-b14b-186acb91865e"
   },
   "outputs": [
    {
     "name": "stdout",
     "output_type": "stream",
     "text": [
      "{'Slovakia', 'Armenia'} \n",
      "\n",
      "3885 \n",
      "\n",
      "12 \n",
      "\n",
      "37 \n",
      "\n",
      "0 \n",
      "\n",
      "942 \n",
      "\n"
     ]
    }
   ],
   "source": [
    "print(set(test_data.country).difference(set(train_data.country)),\"\\n\")\n",
    "print(len(list(set(test_data.designation).difference(set(train_data.designation)))),\"\\n\")\n",
    "print(len(list(set(test_data.province).difference(set(train_data.province)))),\"\\n\")\n",
    "print(len(list(set(test_data.region_1).difference(set(train_data.region_1)))),\"\\n\")\n",
    "print(len(list(set(test_data.region_2).difference(set(train_data.region_2)))),\"\\n\")\n",
    "print(len(list(set(test_data.winery).difference(set(train_data.winery)))),\"\\n\")"
   ]
  },
  {
   "cell_type": "markdown",
   "metadata": {
    "colab_type": "text",
    "id": "a9MoXMesko5v"
   },
   "source": [
    "There are some values in test_data which is not present in train_data, we will handle them same way we will replace them others."
   ]
  },
  {
   "cell_type": "markdown",
   "metadata": {
    "colab_type": "text",
    "id": "EB5oLNC201lD"
   },
   "source": [
    "Based on above findings we will process data"
   ]
  },
  {
   "cell_type": "code",
   "execution_count": 0,
   "metadata": {
    "colab": {},
    "colab_type": "code",
    "id": "l6G5Axheko5w"
   },
   "outputs": [],
   "source": [
    "def process_train_data(temp_data, top_values):\n",
    "    \n",
    "    data = temp_data.copy()\n",
    "    \n",
    "    data['price'] = np.where((data.price < 1000), data.price, data.price.median())\n",
    "    data['points'] = np.where((data.points < 100), data.points, data.points.mean())\n",
    "    \n",
    "    for column in ['user_name', 'country', 'designation', 'province', 'region_1', 'region_2', 'winery']:\n",
    "        data[column] = data[column].apply(lambda x: 'Other' if x not in top_values[column] else x)\n",
    "        \n",
    "    data['user_name'] = data['user_name'].apply(lambda x:re.sub('[^a-zA-Z ]+','',str(x)))\n",
    "\n",
    "    return data        "
   ]
  },
  {
   "cell_type": "code",
   "execution_count": 21,
   "metadata": {
    "colab": {
     "base_uri": "https://localhost:8080/",
     "height": 313
    },
    "colab_type": "code",
    "id": "yY8CukReko5y",
    "outputId": "6b98e688-1990-42ea-fae0-ae688838b5e0"
   },
   "outputs": [
    {
     "data": {
      "text/html": [
       "<div>\n",
       "<style scoped>\n",
       "    .dataframe tbody tr th:only-of-type {\n",
       "        vertical-align: middle;\n",
       "    }\n",
       "\n",
       "    .dataframe tbody tr th {\n",
       "        vertical-align: top;\n",
       "    }\n",
       "\n",
       "    .dataframe thead th {\n",
       "        text-align: right;\n",
       "    }\n",
       "</style>\n",
       "<table border=\"1\" class=\"dataframe\">\n",
       "  <thead>\n",
       "    <tr style=\"text-align: right;\">\n",
       "      <th></th>\n",
       "      <th>user_name</th>\n",
       "      <th>country</th>\n",
       "      <th>review_title</th>\n",
       "      <th>review_description</th>\n",
       "      <th>designation</th>\n",
       "      <th>points</th>\n",
       "      <th>price</th>\n",
       "      <th>province</th>\n",
       "      <th>region_1</th>\n",
       "      <th>region_2</th>\n",
       "      <th>winery</th>\n",
       "      <th>variety</th>\n",
       "    </tr>\n",
       "  </thead>\n",
       "  <tbody>\n",
       "    <tr>\n",
       "      <th>0</th>\n",
       "      <td>Other</td>\n",
       "      <td>Other</td>\n",
       "      <td>Andrew Peace 2007 Peace Family Vineyard Chardo...</td>\n",
       "      <td>Classic Chardonnay aromas of apple, pear and h...</td>\n",
       "      <td>Other</td>\n",
       "      <td>83.0</td>\n",
       "      <td>10.0</td>\n",
       "      <td>Other</td>\n",
       "      <td>Other</td>\n",
       "      <td>Other</td>\n",
       "      <td>Other</td>\n",
       "      <td>Chardonnay</td>\n",
       "    </tr>\n",
       "    <tr>\n",
       "      <th>1</th>\n",
       "      <td>wawinereport</td>\n",
       "      <td>US</td>\n",
       "      <td>North by Northwest 2014 Red (Columbia Valley (...</td>\n",
       "      <td>This wine is near equal parts Syrah and Merlot...</td>\n",
       "      <td>Other</td>\n",
       "      <td>89.0</td>\n",
       "      <td>15.0</td>\n",
       "      <td>Washington</td>\n",
       "      <td>Columbia Valley (WA)</td>\n",
       "      <td>Columbia Valley</td>\n",
       "      <td>Other</td>\n",
       "      <td>Red Blend</td>\n",
       "    </tr>\n",
       "    <tr>\n",
       "      <th>2</th>\n",
       "      <td>Other</td>\n",
       "      <td>Italy</td>\n",
       "      <td>Renato Ratti 2007 Conca  (Barolo)</td>\n",
       "      <td>Barolo Conca opens with inky dark concentratio...</td>\n",
       "      <td>Other</td>\n",
       "      <td>94.0</td>\n",
       "      <td>80.0</td>\n",
       "      <td>Piedmont</td>\n",
       "      <td>Barolo</td>\n",
       "      <td>Other</td>\n",
       "      <td>Other</td>\n",
       "      <td>Nebbiolo</td>\n",
       "    </tr>\n",
       "    <tr>\n",
       "      <th>3</th>\n",
       "      <td>vossroger</td>\n",
       "      <td>France</td>\n",
       "      <td>Domaine l'Ancienne Cure 2010 L'Abbaye White (B...</td>\n",
       "      <td>It's impressive what a small addition of Sauvi...</td>\n",
       "      <td>Other</td>\n",
       "      <td>87.0</td>\n",
       "      <td>22.0</td>\n",
       "      <td>Other</td>\n",
       "      <td>Other</td>\n",
       "      <td>Other</td>\n",
       "      <td>Other</td>\n",
       "      <td>Bordeaux-style White Blend</td>\n",
       "    </tr>\n",
       "    <tr>\n",
       "      <th>4</th>\n",
       "      <td>vossroger</td>\n",
       "      <td>France</td>\n",
       "      <td>Château du Cèdre 2012 Le Cèdre Vintage Malbec ...</td>\n",
       "      <td>This ripe, sweet wine is rich and full of drie...</td>\n",
       "      <td>Other</td>\n",
       "      <td>88.0</td>\n",
       "      <td>33.0</td>\n",
       "      <td>Other</td>\n",
       "      <td>Other</td>\n",
       "      <td>Other</td>\n",
       "      <td>Other</td>\n",
       "      <td>Malbec</td>\n",
       "    </tr>\n",
       "  </tbody>\n",
       "</table>\n",
       "</div>"
      ],
      "text/plain": [
       "      user_name country  ... winery                     variety\n",
       "0         Other   Other  ...  Other                  Chardonnay\n",
       "1  wawinereport      US  ...  Other                   Red Blend\n",
       "2         Other   Italy  ...  Other                    Nebbiolo\n",
       "3     vossroger  France  ...  Other  Bordeaux-style White Blend\n",
       "4     vossroger  France  ...  Other                      Malbec\n",
       "\n",
       "[5 rows x 12 columns]"
      ]
     },
     "execution_count": 21,
     "metadata": {
      "tags": []
     },
     "output_type": "execute_result"
    }
   ],
   "source": [
    "processed_data = process_train_data(train_data, top_values)\n",
    "\n",
    "processed_data.head()"
   ]
  },
  {
   "cell_type": "code",
   "execution_count": 22,
   "metadata": {
    "colab": {
     "base_uri": "https://localhost:8080/",
     "height": 235
    },
    "colab_type": "code",
    "id": "xZ7DmGfeko50",
    "outputId": "0e57382b-6761-4ae9-ca24-79846571a171"
   },
   "outputs": [
    {
     "data": {
      "text/plain": [
       "user_name             0\n",
       "country               0\n",
       "review_title          0\n",
       "review_description    0\n",
       "designation           0\n",
       "points                0\n",
       "price                 0\n",
       "province              0\n",
       "region_1              0\n",
       "region_2              0\n",
       "winery                0\n",
       "variety               0\n",
       "dtype: int64"
      ]
     },
     "execution_count": 22,
     "metadata": {
      "tags": []
     },
     "output_type": "execute_result"
    }
   ],
   "source": [
    "processed_data.isnull().sum()"
   ]
  },
  {
   "cell_type": "markdown",
   "metadata": {
    "colab_type": "text",
    "id": "4fwJHkgR0-nl"
   },
   "source": [
    "We have also replaced Null values with \"Other\" in categorical columns"
   ]
  },
  {
   "cell_type": "markdown",
   "metadata": {
    "colab_type": "text",
    "id": "bsFOAyDyko52"
   },
   "source": [
    "# Exploratory Data Analysis"
   ]
  },
  {
   "cell_type": "code",
   "execution_count": 23,
   "metadata": {
    "colab": {
     "base_uri": "https://localhost:8080/",
     "height": 218
    },
    "colab_type": "code",
    "id": "6g3UBXQKko53",
    "outputId": "d063856c-7726-4754-9b63-5cac214cd602"
   },
   "outputs": [
    {
     "data": {
      "text/plain": [
       "variety\n",
       "Nebbiolo                      90.283675\n",
       "Grüner Veltliner              90.051185\n",
       "Champagne Blend               89.713632\n",
       "Riesling                      89.465284\n",
       "Pinot Noir                    89.417210\n",
       "Syrah                         89.274893\n",
       "Rhône-style Red Blend         89.171743\n",
       "Bordeaux-style Red Blend      89.094266\n",
       "Portuguese Red                88.774781\n",
       "Bordeaux-style White Blend    88.679464\n",
       "Name: points, dtype: float64"
      ]
     },
     "execution_count": 23,
     "metadata": {
      "tags": []
     },
     "output_type": "execute_result"
    }
   ],
   "source": [
    "processed_data.groupby('variety')['points'].mean().sort_values(ascending=False)[:10]"
   ]
  },
  {
   "cell_type": "markdown",
   "metadata": {
    "colab_type": "text",
    "id": "HpuV-_Nr1Kki"
   },
   "source": [
    "<b>Top 10 varieties of wine which are most loved by users.</b>"
   ]
  },
  {
   "cell_type": "code",
   "execution_count": 24,
   "metadata": {
    "colab": {
     "base_uri": "https://localhost:8080/",
     "height": 409
    },
    "colab_type": "code",
    "id": "SKk1Zll9ko55",
    "outputId": "eba7b214-f69c-4d76-aeea-45a3fec46224"
   },
   "outputs": [
    {
     "data": {
      "image/png": "[encoded data removed]",
      "text/plain": [
       "<Figure size 432x288 with 1 Axes>"
      ]
     },
     "metadata": {
      "needs_background": "light",
      "tags": []
     },
     "output_type": "display_data"
    }
   ],
   "source": [
    "processed_data.groupby('variety')['points'].mean().sort_values(ascending = False)[:10].plot.bar(edgecolor = 'k', color='g')\n",
    "\n",
    "plt.ylabel('Points')\n",
    "\n",
    "plt.show()"
   ]
  },
  {
   "cell_type": "code",
   "execution_count": 25,
   "metadata": {
    "colab": {
     "base_uri": "https://localhost:8080/",
     "height": 218
    },
    "colab_type": "code",
    "id": "A3iAkQlzko57",
    "outputId": "79ca1de1-39a0-4471-c4b3-2f49cc00793e"
   },
   "outputs": [
    {
     "data": {
      "text/plain": [
       "variety\n",
       "Champagne Blend             65.295675\n",
       "Nebbiolo                    59.581624\n",
       "Cabernet Sauvignon          47.656515\n",
       "Pinot Noir                  46.593369\n",
       "Sangiovese                  43.048037\n",
       "Bordeaux-style Red Blend    40.260506\n",
       "Syrah                       38.959288\n",
       "Red Blend                   35.632291\n",
       "Rhône-style Red Blend       34.970389\n",
       "Cabernet Franc              34.642922\n",
       "Name: price, dtype: float64"
      ]
     },
     "execution_count": 25,
     "metadata": {
      "tags": []
     },
     "output_type": "execute_result"
    }
   ],
   "source": [
    "processed_data.groupby('variety')['price'].mean().sort_values(ascending=False)[:10]"
   ]
  },
  {
   "cell_type": "markdown",
   "metadata": {
    "colab_type": "text",
    "id": "spvIHMzu1fwx"
   },
   "source": [
    "<b>Top 10 varieties of wine which are most costly</b>"
   ]
  },
  {
   "cell_type": "code",
   "execution_count": 26,
   "metadata": {
    "colab": {
     "base_uri": "https://localhost:8080/",
     "height": 398
    },
    "colab_type": "code",
    "id": "pUSm3fQlko59",
    "outputId": "f56468c4-c35f-4a91-92b9-1f475ffacaf1"
   },
   "outputs": [
    {
     "data": {
      "image/png": "[encoded data removed]",
      "text/plain": [
       "<Figure size 432x288 with 1 Axes>"
      ]
     },
     "metadata": {
      "needs_background": "light",
      "tags": []
     },
     "output_type": "display_data"
    }
   ],
   "source": [
    "processed_data.groupby('variety')['price'].mean().sort_values(ascending = False)[:10].plot.bar(edgecolor = 'k', color='g')\n",
    "\n",
    "plt.ylabel('Price')\n",
    "\n",
    "plt.show()"
   ]
  },
  {
   "cell_type": "code",
   "execution_count": 27,
   "metadata": {
    "colab": {
     "base_uri": "https://localhost:8080/",
     "height": 235
    },
    "colab_type": "code",
    "id": "47SMgYyrko6G",
    "outputId": "0edd8159-811d-4fa3-af9e-ce4775481be2"
   },
   "outputs": [
    {
     "data": {
      "text/plain": [
       "country\n",
       "Italy          44.011084\n",
       "Germany        43.328036\n",
       "France         38.776963\n",
       "US             37.366163\n",
       "Austria        30.358879\n",
       "Other          27.886942\n",
       "Spain          27.761525\n",
       "New Zealand    26.518287\n",
       "Argentina      25.419455\n",
       "Portugal       22.128871\n",
       "Chile          20.912833\n",
       "Name: price, dtype: float64"
      ]
     },
     "execution_count": 27,
     "metadata": {
      "tags": []
     },
     "output_type": "execute_result"
    }
   ],
   "source": [
    "processed_data.groupby('country')['price'].mean().sort_values(ascending=False)"
   ]
  },
  {
   "cell_type": "markdown",
   "metadata": {
    "colab_type": "text",
    "id": "l9xCMp591oMr"
   },
   "source": [
    "<b>Top 10 countries who sell most costly wines</b>"
   ]
  },
  {
   "cell_type": "code",
   "execution_count": 28,
   "metadata": {
    "colab": {
     "base_uri": "https://localhost:8080/",
     "height": 335
    },
    "colab_type": "code",
    "id": "BD7cekFDko6J",
    "outputId": "df1ed3e7-8db2-4d28-fce6-08eb685efdc0"
   },
   "outputs": [
    {
     "data": {
      "image/png": "[encoded data removed]",
      "text/plain": [
       "<Figure size 432x288 with 1 Axes>"
      ]
     },
     "metadata": {
      "needs_background": "light",
      "tags": []
     },
     "output_type": "display_data"
    }
   ],
   "source": [
    "processed_data.groupby('country')['price'].mean().sort_values(ascending = False).plot.bar(edgecolor = 'k', color='g')\n",
    "\n",
    "plt.ylabel('Price')\n",
    "\n",
    "plt.show()"
   ]
  },
  {
   "cell_type": "markdown",
   "metadata": {
    "colab_type": "text",
    "id": "grLxD7B-ko6L"
   },
   "source": [
    "## FEATURE SELECTION"
   ]
  },
  {
   "cell_type": "code",
   "execution_count": 29,
   "metadata": {
    "colab": {
     "base_uri": "https://localhost:8080/",
     "height": 34
    },
    "colab_type": "code",
    "id": "HO-dSQkqko6L",
    "outputId": "66ddc9e1-08c2-4117-e0af-f5ef6978f263"
   },
   "outputs": [
    {
     "name": "stdout",
     "output_type": "stream",
     "text": [
      "0.0\n"
     ]
    }
   ],
   "source": [
    "cross_tabel = pd.crosstab(processed_data['variety'], processed_data['user_name'])\n",
    "\n",
    "s,p,d,e = stat.chi2_contingency(cross_tabel)\n",
    "\n",
    "print(p)\n",
    "\n",
    "#repeat for each column, p is 0 for each column"
   ]
  },
  {
   "cell_type": "markdown",
   "metadata": {
    "colab_type": "text",
    "id": "0dnL9Qprko6O"
   },
   "source": [
    "<b>Based on chi2 statistics we do not have any strong evidence that any column is independent of target variable so we will keep every column except review_title and designation.\n",
    "\n",
    "review_title is basically a combination of location which is a repetation of other columns and designation has lot of null values and also has lot of different labels so It will not have any influence on target variable</b>"
   ]
  },
  {
   "cell_type": "markdown",
   "metadata": {
    "colab_type": "text",
    "id": "HHYAs-XYlslA"
   },
   "source": [
    "# FEATURE ENGINEERING"
   ]
  },
  {
   "cell_type": "code",
   "execution_count": 0,
   "metadata": {
    "colab": {},
    "colab_type": "code",
    "id": "sbYjx9BTko6-"
   },
   "outputs": [],
   "source": [
    "def clean_review(temp_data,column):\n",
    "    data = temp_data.copy()\n",
    "\n",
    "    data[column] = data[column].apply(lambda x:re.sub('[^a-zA-Z ]+','',str(x)))\n",
    "    \n",
    "    data[column] = data[column].apply(nltk.word_tokenize)\n",
    "    \n",
    "    data[column] = data[column].apply(lambda x:[word.lower() for word in x])   #transform words in lowercase\n",
    "\n",
    "    data[column] = data[column].apply(lambda x: [word for word in x if word not in stop_words]) #removing stop words \n",
    "\n",
    "    data[column] = data[column].apply(lambda x:' '.join(x))    #join all words as sentenance\n",
    "    return data"
   ]
  },
  {
   "cell_type": "markdown",
   "metadata": {
    "colab_type": "text",
    "id": "7m3atG6-2RXe"
   },
   "source": [
    "<b>Cleaning review description by removing stop words and panctuation, numbers, etc. </b>"
   ]
  },
  {
   "cell_type": "code",
   "execution_count": 0,
   "metadata": {
    "colab": {},
    "colab_type": "code",
    "id": "D57-W8b1ko7C"
   },
   "outputs": [],
   "source": [
    "NB_cleaned_data = clean_review(processed_data, 'review_description')"
   ]
  },
  {
   "cell_type": "code",
   "execution_count": 32,
   "metadata": {
    "colab": {
     "base_uri": "https://localhost:8080/",
     "height": 261
    },
    "colab_type": "code",
    "id": "-tNpW9UAko7G",
    "outputId": "b035f956-8f68-4aac-a630-888763f91cdb"
   },
   "outputs": [
    {
     "name": "stdout",
     "output_type": "stream",
     "text": [
      "(82657, 5000)\n"
     ]
    },
    {
     "data": {
      "text/html": [
       "<div>\n",
       "<style scoped>\n",
       "    .dataframe tbody tr th:only-of-type {\n",
       "        vertical-align: middle;\n",
       "    }\n",
       "\n",
       "    .dataframe tbody tr th {\n",
       "        vertical-align: top;\n",
       "    }\n",
       "\n",
       "    .dataframe thead th {\n",
       "        text-align: right;\n",
       "    }\n",
       "</style>\n",
       "<table border=\"1\" class=\"dataframe\">\n",
       "  <thead>\n",
       "    <tr style=\"text-align: right;\">\n",
       "      <th></th>\n",
       "      <th>ability</th>\n",
       "      <th>able</th>\n",
       "      <th>abound</th>\n",
       "      <th>abounds</th>\n",
       "      <th>abrasive</th>\n",
       "      <th>abrupt</th>\n",
       "      <th>abruptly</th>\n",
       "      <th>absolute</th>\n",
       "      <th>absolutely</th>\n",
       "      <th>abundance</th>\n",
       "      <th>abundant</th>\n",
       "      <th>abv</th>\n",
       "      <th>acacia</th>\n",
       "      <th>accent</th>\n",
       "      <th>accented</th>\n",
       "      <th>accenting</th>\n",
       "      <th>accents</th>\n",
       "      <th>accentuate</th>\n",
       "      <th>accentuated</th>\n",
       "      <th>accentuates</th>\n",
       "      <th>accentuating</th>\n",
       "      <th>acceptable</th>\n",
       "      <th>accessible</th>\n",
       "      <th>accompanied</th>\n",
       "      <th>accompanies</th>\n",
       "      <th>accompaniment</th>\n",
       "      <th>accompany</th>\n",
       "      <th>accompanying</th>\n",
       "      <th>achieve</th>\n",
       "      <th>achieved</th>\n",
       "      <th>achievement</th>\n",
       "      <th>achieves</th>\n",
       "      <th>acid</th>\n",
       "      <th>aciddriven</th>\n",
       "      <th>acidic</th>\n",
       "      <th>acidity</th>\n",
       "      <th>acids</th>\n",
       "      <th>acidtannin</th>\n",
       "      <th>acre</th>\n",
       "      <th>acres</th>\n",
       "      <th>...</th>\n",
       "      <th>yeast</th>\n",
       "      <th>yeastiness</th>\n",
       "      <th>yeasts</th>\n",
       "      <th>yeasty</th>\n",
       "      <th>yellow</th>\n",
       "      <th>yellowcherry</th>\n",
       "      <th>yellowfruit</th>\n",
       "      <th>yes</th>\n",
       "      <th>yet</th>\n",
       "      <th>yield</th>\n",
       "      <th>yielded</th>\n",
       "      <th>yielding</th>\n",
       "      <th>yields</th>\n",
       "      <th>ynez</th>\n",
       "      <th>yogurt</th>\n",
       "      <th>york</th>\n",
       "      <th>youd</th>\n",
       "      <th>youll</th>\n",
       "      <th>young</th>\n",
       "      <th>younger</th>\n",
       "      <th>yountville</th>\n",
       "      <th>youre</th>\n",
       "      <th>youth</th>\n",
       "      <th>youthful</th>\n",
       "      <th>youthfully</th>\n",
       "      <th>yummy</th>\n",
       "      <th>zealand</th>\n",
       "      <th>zealands</th>\n",
       "      <th>zero</th>\n",
       "      <th>zest</th>\n",
       "      <th>zestiness</th>\n",
       "      <th>zesty</th>\n",
       "      <th>zin</th>\n",
       "      <th>zinfandel</th>\n",
       "      <th>zinfandels</th>\n",
       "      <th>zing</th>\n",
       "      <th>zingy</th>\n",
       "      <th>zins</th>\n",
       "      <th>zip</th>\n",
       "      <th>zippy</th>\n",
       "    </tr>\n",
       "  </thead>\n",
       "  <tbody>\n",
       "    <tr>\n",
       "      <th>0</th>\n",
       "      <td>0</td>\n",
       "      <td>0</td>\n",
       "      <td>0</td>\n",
       "      <td>0</td>\n",
       "      <td>0</td>\n",
       "      <td>0</td>\n",
       "      <td>0</td>\n",
       "      <td>0</td>\n",
       "      <td>0</td>\n",
       "      <td>0</td>\n",
       "      <td>0</td>\n",
       "      <td>0</td>\n",
       "      <td>0</td>\n",
       "      <td>0</td>\n",
       "      <td>0</td>\n",
       "      <td>0</td>\n",
       "      <td>0</td>\n",
       "      <td>0</td>\n",
       "      <td>0</td>\n",
       "      <td>0</td>\n",
       "      <td>0</td>\n",
       "      <td>0</td>\n",
       "      <td>0</td>\n",
       "      <td>0</td>\n",
       "      <td>0</td>\n",
       "      <td>0</td>\n",
       "      <td>0</td>\n",
       "      <td>0</td>\n",
       "      <td>0</td>\n",
       "      <td>0</td>\n",
       "      <td>0</td>\n",
       "      <td>0</td>\n",
       "      <td>0</td>\n",
       "      <td>0</td>\n",
       "      <td>0</td>\n",
       "      <td>0</td>\n",
       "      <td>0</td>\n",
       "      <td>0</td>\n",
       "      <td>0</td>\n",
       "      <td>0</td>\n",
       "      <td>...</td>\n",
       "      <td>0</td>\n",
       "      <td>0</td>\n",
       "      <td>0</td>\n",
       "      <td>0</td>\n",
       "      <td>0</td>\n",
       "      <td>0</td>\n",
       "      <td>0</td>\n",
       "      <td>0</td>\n",
       "      <td>0</td>\n",
       "      <td>0</td>\n",
       "      <td>0</td>\n",
       "      <td>0</td>\n",
       "      <td>0</td>\n",
       "      <td>0</td>\n",
       "      <td>0</td>\n",
       "      <td>0</td>\n",
       "      <td>0</td>\n",
       "      <td>0</td>\n",
       "      <td>0</td>\n",
       "      <td>0</td>\n",
       "      <td>0</td>\n",
       "      <td>0</td>\n",
       "      <td>0</td>\n",
       "      <td>0</td>\n",
       "      <td>0</td>\n",
       "      <td>0</td>\n",
       "      <td>0</td>\n",
       "      <td>0</td>\n",
       "      <td>0</td>\n",
       "      <td>0</td>\n",
       "      <td>0</td>\n",
       "      <td>0</td>\n",
       "      <td>0</td>\n",
       "      <td>0</td>\n",
       "      <td>0</td>\n",
       "      <td>0</td>\n",
       "      <td>0</td>\n",
       "      <td>0</td>\n",
       "      <td>0</td>\n",
       "      <td>0</td>\n",
       "    </tr>\n",
       "    <tr>\n",
       "      <th>1</th>\n",
       "      <td>0</td>\n",
       "      <td>0</td>\n",
       "      <td>0</td>\n",
       "      <td>0</td>\n",
       "      <td>0</td>\n",
       "      <td>0</td>\n",
       "      <td>0</td>\n",
       "      <td>0</td>\n",
       "      <td>0</td>\n",
       "      <td>0</td>\n",
       "      <td>0</td>\n",
       "      <td>0</td>\n",
       "      <td>0</td>\n",
       "      <td>0</td>\n",
       "      <td>0</td>\n",
       "      <td>0</td>\n",
       "      <td>0</td>\n",
       "      <td>0</td>\n",
       "      <td>0</td>\n",
       "      <td>0</td>\n",
       "      <td>0</td>\n",
       "      <td>0</td>\n",
       "      <td>0</td>\n",
       "      <td>0</td>\n",
       "      <td>0</td>\n",
       "      <td>0</td>\n",
       "      <td>0</td>\n",
       "      <td>0</td>\n",
       "      <td>0</td>\n",
       "      <td>0</td>\n",
       "      <td>0</td>\n",
       "      <td>0</td>\n",
       "      <td>0</td>\n",
       "      <td>0</td>\n",
       "      <td>0</td>\n",
       "      <td>0</td>\n",
       "      <td>0</td>\n",
       "      <td>0</td>\n",
       "      <td>0</td>\n",
       "      <td>0</td>\n",
       "      <td>...</td>\n",
       "      <td>0</td>\n",
       "      <td>0</td>\n",
       "      <td>0</td>\n",
       "      <td>0</td>\n",
       "      <td>0</td>\n",
       "      <td>0</td>\n",
       "      <td>0</td>\n",
       "      <td>0</td>\n",
       "      <td>0</td>\n",
       "      <td>0</td>\n",
       "      <td>0</td>\n",
       "      <td>0</td>\n",
       "      <td>0</td>\n",
       "      <td>0</td>\n",
       "      <td>0</td>\n",
       "      <td>0</td>\n",
       "      <td>0</td>\n",
       "      <td>0</td>\n",
       "      <td>0</td>\n",
       "      <td>0</td>\n",
       "      <td>0</td>\n",
       "      <td>0</td>\n",
       "      <td>0</td>\n",
       "      <td>0</td>\n",
       "      <td>0</td>\n",
       "      <td>0</td>\n",
       "      <td>0</td>\n",
       "      <td>0</td>\n",
       "      <td>0</td>\n",
       "      <td>0</td>\n",
       "      <td>0</td>\n",
       "      <td>0</td>\n",
       "      <td>0</td>\n",
       "      <td>0</td>\n",
       "      <td>0</td>\n",
       "      <td>0</td>\n",
       "      <td>0</td>\n",
       "      <td>0</td>\n",
       "      <td>0</td>\n",
       "      <td>0</td>\n",
       "    </tr>\n",
       "    <tr>\n",
       "      <th>2</th>\n",
       "      <td>0</td>\n",
       "      <td>0</td>\n",
       "      <td>0</td>\n",
       "      <td>0</td>\n",
       "      <td>0</td>\n",
       "      <td>0</td>\n",
       "      <td>0</td>\n",
       "      <td>0</td>\n",
       "      <td>0</td>\n",
       "      <td>0</td>\n",
       "      <td>0</td>\n",
       "      <td>0</td>\n",
       "      <td>0</td>\n",
       "      <td>0</td>\n",
       "      <td>0</td>\n",
       "      <td>0</td>\n",
       "      <td>0</td>\n",
       "      <td>0</td>\n",
       "      <td>0</td>\n",
       "      <td>0</td>\n",
       "      <td>0</td>\n",
       "      <td>0</td>\n",
       "      <td>0</td>\n",
       "      <td>0</td>\n",
       "      <td>0</td>\n",
       "      <td>0</td>\n",
       "      <td>0</td>\n",
       "      <td>0</td>\n",
       "      <td>0</td>\n",
       "      <td>0</td>\n",
       "      <td>0</td>\n",
       "      <td>0</td>\n",
       "      <td>0</td>\n",
       "      <td>0</td>\n",
       "      <td>0</td>\n",
       "      <td>0</td>\n",
       "      <td>0</td>\n",
       "      <td>0</td>\n",
       "      <td>0</td>\n",
       "      <td>0</td>\n",
       "      <td>...</td>\n",
       "      <td>0</td>\n",
       "      <td>0</td>\n",
       "      <td>0</td>\n",
       "      <td>0</td>\n",
       "      <td>0</td>\n",
       "      <td>0</td>\n",
       "      <td>0</td>\n",
       "      <td>0</td>\n",
       "      <td>0</td>\n",
       "      <td>0</td>\n",
       "      <td>0</td>\n",
       "      <td>0</td>\n",
       "      <td>0</td>\n",
       "      <td>0</td>\n",
       "      <td>0</td>\n",
       "      <td>0</td>\n",
       "      <td>0</td>\n",
       "      <td>0</td>\n",
       "      <td>0</td>\n",
       "      <td>0</td>\n",
       "      <td>0</td>\n",
       "      <td>0</td>\n",
       "      <td>0</td>\n",
       "      <td>0</td>\n",
       "      <td>0</td>\n",
       "      <td>0</td>\n",
       "      <td>0</td>\n",
       "      <td>0</td>\n",
       "      <td>0</td>\n",
       "      <td>0</td>\n",
       "      <td>0</td>\n",
       "      <td>0</td>\n",
       "      <td>0</td>\n",
       "      <td>0</td>\n",
       "      <td>0</td>\n",
       "      <td>0</td>\n",
       "      <td>0</td>\n",
       "      <td>0</td>\n",
       "      <td>0</td>\n",
       "      <td>0</td>\n",
       "    </tr>\n",
       "    <tr>\n",
       "      <th>3</th>\n",
       "      <td>0</td>\n",
       "      <td>0</td>\n",
       "      <td>0</td>\n",
       "      <td>0</td>\n",
       "      <td>0</td>\n",
       "      <td>0</td>\n",
       "      <td>0</td>\n",
       "      <td>0</td>\n",
       "      <td>0</td>\n",
       "      <td>0</td>\n",
       "      <td>0</td>\n",
       "      <td>0</td>\n",
       "      <td>0</td>\n",
       "      <td>0</td>\n",
       "      <td>0</td>\n",
       "      <td>0</td>\n",
       "      <td>0</td>\n",
       "      <td>0</td>\n",
       "      <td>0</td>\n",
       "      <td>0</td>\n",
       "      <td>0</td>\n",
       "      <td>0</td>\n",
       "      <td>0</td>\n",
       "      <td>0</td>\n",
       "      <td>0</td>\n",
       "      <td>0</td>\n",
       "      <td>0</td>\n",
       "      <td>0</td>\n",
       "      <td>0</td>\n",
       "      <td>0</td>\n",
       "      <td>0</td>\n",
       "      <td>0</td>\n",
       "      <td>0</td>\n",
       "      <td>0</td>\n",
       "      <td>0</td>\n",
       "      <td>0</td>\n",
       "      <td>0</td>\n",
       "      <td>0</td>\n",
       "      <td>0</td>\n",
       "      <td>0</td>\n",
       "      <td>...</td>\n",
       "      <td>0</td>\n",
       "      <td>0</td>\n",
       "      <td>0</td>\n",
       "      <td>0</td>\n",
       "      <td>0</td>\n",
       "      <td>0</td>\n",
       "      <td>0</td>\n",
       "      <td>0</td>\n",
       "      <td>0</td>\n",
       "      <td>0</td>\n",
       "      <td>0</td>\n",
       "      <td>0</td>\n",
       "      <td>0</td>\n",
       "      <td>0</td>\n",
       "      <td>0</td>\n",
       "      <td>0</td>\n",
       "      <td>0</td>\n",
       "      <td>0</td>\n",
       "      <td>0</td>\n",
       "      <td>0</td>\n",
       "      <td>0</td>\n",
       "      <td>0</td>\n",
       "      <td>0</td>\n",
       "      <td>0</td>\n",
       "      <td>0</td>\n",
       "      <td>0</td>\n",
       "      <td>0</td>\n",
       "      <td>0</td>\n",
       "      <td>0</td>\n",
       "      <td>0</td>\n",
       "      <td>0</td>\n",
       "      <td>0</td>\n",
       "      <td>0</td>\n",
       "      <td>0</td>\n",
       "      <td>0</td>\n",
       "      <td>0</td>\n",
       "      <td>0</td>\n",
       "      <td>0</td>\n",
       "      <td>0</td>\n",
       "      <td>0</td>\n",
       "    </tr>\n",
       "    <tr>\n",
       "      <th>4</th>\n",
       "      <td>0</td>\n",
       "      <td>0</td>\n",
       "      <td>0</td>\n",
       "      <td>0</td>\n",
       "      <td>0</td>\n",
       "      <td>0</td>\n",
       "      <td>0</td>\n",
       "      <td>0</td>\n",
       "      <td>0</td>\n",
       "      <td>0</td>\n",
       "      <td>0</td>\n",
       "      <td>0</td>\n",
       "      <td>0</td>\n",
       "      <td>0</td>\n",
       "      <td>0</td>\n",
       "      <td>0</td>\n",
       "      <td>0</td>\n",
       "      <td>0</td>\n",
       "      <td>0</td>\n",
       "      <td>0</td>\n",
       "      <td>0</td>\n",
       "      <td>0</td>\n",
       "      <td>0</td>\n",
       "      <td>0</td>\n",
       "      <td>0</td>\n",
       "      <td>0</td>\n",
       "      <td>0</td>\n",
       "      <td>0</td>\n",
       "      <td>0</td>\n",
       "      <td>0</td>\n",
       "      <td>0</td>\n",
       "      <td>0</td>\n",
       "      <td>0</td>\n",
       "      <td>0</td>\n",
       "      <td>0</td>\n",
       "      <td>0</td>\n",
       "      <td>0</td>\n",
       "      <td>0</td>\n",
       "      <td>0</td>\n",
       "      <td>0</td>\n",
       "      <td>...</td>\n",
       "      <td>0</td>\n",
       "      <td>0</td>\n",
       "      <td>0</td>\n",
       "      <td>0</td>\n",
       "      <td>0</td>\n",
       "      <td>0</td>\n",
       "      <td>0</td>\n",
       "      <td>0</td>\n",
       "      <td>0</td>\n",
       "      <td>0</td>\n",
       "      <td>0</td>\n",
       "      <td>0</td>\n",
       "      <td>0</td>\n",
       "      <td>0</td>\n",
       "      <td>0</td>\n",
       "      <td>0</td>\n",
       "      <td>0</td>\n",
       "      <td>0</td>\n",
       "      <td>0</td>\n",
       "      <td>0</td>\n",
       "      <td>0</td>\n",
       "      <td>0</td>\n",
       "      <td>0</td>\n",
       "      <td>0</td>\n",
       "      <td>0</td>\n",
       "      <td>0</td>\n",
       "      <td>0</td>\n",
       "      <td>0</td>\n",
       "      <td>0</td>\n",
       "      <td>0</td>\n",
       "      <td>0</td>\n",
       "      <td>0</td>\n",
       "      <td>0</td>\n",
       "      <td>0</td>\n",
       "      <td>0</td>\n",
       "      <td>0</td>\n",
       "      <td>0</td>\n",
       "      <td>0</td>\n",
       "      <td>0</td>\n",
       "      <td>0</td>\n",
       "    </tr>\n",
       "  </tbody>\n",
       "</table>\n",
       "<p>5 rows × 5000 columns</p>\n",
       "</div>"
      ],
      "text/plain": [
       "   ability  able  abound  abounds  abrasive  ...  zing  zingy  zins  zip  zippy\n",
       "0        0     0       0        0         0  ...     0      0     0    0      0\n",
       "1        0     0       0        0         0  ...     0      0     0    0      0\n",
       "2        0     0       0        0         0  ...     0      0     0    0      0\n",
       "3        0     0       0        0         0  ...     0      0     0    0      0\n",
       "4        0     0       0        0         0  ...     0      0     0    0      0\n",
       "\n",
       "[5 rows x 5000 columns]"
      ]
     },
     "execution_count": 32,
     "metadata": {
      "tags": []
     },
     "output_type": "execute_result"
    }
   ],
   "source": [
    "vectorizer = CountVectorizer(max_features=5000)\n",
    "\n",
    "sparse_matrix = vectorizer.fit_transform(NB_cleaned_data['review_description'])\n",
    "\n",
    "sparse_df = pd.DataFrame.sparse.from_spmatrix(sparse_matrix,\n",
    "                                              columns=vectorizer.get_feature_names())\n",
    "\n",
    "print(sparse_df.shape)\n",
    "\n",
    "sparse_df.head()"
   ]
  },
  {
   "cell_type": "markdown",
   "metadata": {
    "colab_type": "text",
    "id": "LOIHadzf2mbw"
   },
   "source": [
    "Using Bag Of Word Technique instead of TfIDf because when I explored review_description column,  user have written variety of wine in review so it would be better to use CountVectorizer"
   ]
  },
  {
   "cell_type": "code",
   "execution_count": 0,
   "metadata": {
    "colab": {},
    "colab_type": "code",
    "id": "IDZQfYFvko7L"
   },
   "outputs": [],
   "source": [
    "encoder_dict = {}\n",
    "\n",
    "for column in ['user_name', 'country', 'province', 'region_1', 'region_2', 'winery']:\n",
    "    encoder = OneHotEncoder(sparse=False)\n",
    "    encoded = encoder.fit_transform(NB_cleaned_data[[column]])\n",
    "    \n",
    "    df = pd.DataFrame(encoded, columns=[f\"{column}_{x}\" for x in ((encoder.categories_[0]).tolist())])\n",
    "    sparse_df = pd.concat([sparse_df, df], axis=1)\n",
    "    \n",
    "    encoder_dict[column] = encoder"
   ]
  },
  {
   "cell_type": "markdown",
   "metadata": {
    "colab_type": "text",
    "id": "G-5vhQbI3Jzc"
   },
   "source": [
    "Encoding categorical column with one hot encoding which we will create binary value(0 and 1) columns"
   ]
  },
  {
   "cell_type": "code",
   "execution_count": 34,
   "metadata": {
    "colab": {
     "base_uri": "https://localhost:8080/",
     "height": 278
    },
    "colab_type": "code",
    "id": "YjrM9lfAko7O",
    "outputId": "5f563e4a-5e2b-49e6-9533-519e6290ee89"
   },
   "outputs": [
    {
     "name": "stdout",
     "output_type": "stream",
     "text": [
      "(82657, 5066)\n"
     ]
    },
    {
     "data": {
      "text/html": [
       "<div>\n",
       "<style scoped>\n",
       "    .dataframe tbody tr th:only-of-type {\n",
       "        vertical-align: middle;\n",
       "    }\n",
       "\n",
       "    .dataframe tbody tr th {\n",
       "        vertical-align: top;\n",
       "    }\n",
       "\n",
       "    .dataframe thead th {\n",
       "        text-align: right;\n",
       "    }\n",
       "</style>\n",
       "<table border=\"1\" class=\"dataframe\">\n",
       "  <thead>\n",
       "    <tr style=\"text-align: right;\">\n",
       "      <th></th>\n",
       "      <th>ability</th>\n",
       "      <th>able</th>\n",
       "      <th>abound</th>\n",
       "      <th>abounds</th>\n",
       "      <th>abrasive</th>\n",
       "      <th>abrupt</th>\n",
       "      <th>abruptly</th>\n",
       "      <th>absolute</th>\n",
       "      <th>absolutely</th>\n",
       "      <th>abundance</th>\n",
       "      <th>abundant</th>\n",
       "      <th>abv</th>\n",
       "      <th>acacia</th>\n",
       "      <th>accent</th>\n",
       "      <th>accented</th>\n",
       "      <th>accenting</th>\n",
       "      <th>accents</th>\n",
       "      <th>accentuate</th>\n",
       "      <th>accentuated</th>\n",
       "      <th>accentuates</th>\n",
       "      <th>accentuating</th>\n",
       "      <th>acceptable</th>\n",
       "      <th>accessible</th>\n",
       "      <th>accompanied</th>\n",
       "      <th>accompanies</th>\n",
       "      <th>accompaniment</th>\n",
       "      <th>accompany</th>\n",
       "      <th>accompanying</th>\n",
       "      <th>achieve</th>\n",
       "      <th>achieved</th>\n",
       "      <th>achievement</th>\n",
       "      <th>achieves</th>\n",
       "      <th>acid</th>\n",
       "      <th>aciddriven</th>\n",
       "      <th>acidic</th>\n",
       "      <th>acidity</th>\n",
       "      <th>acids</th>\n",
       "      <th>acidtannin</th>\n",
       "      <th>acre</th>\n",
       "      <th>acres</th>\n",
       "      <th>...</th>\n",
       "      <th>province_Mendoza Province</th>\n",
       "      <th>province_New York</th>\n",
       "      <th>province_Oregon</th>\n",
       "      <th>province_Other</th>\n",
       "      <th>province_Piedmont</th>\n",
       "      <th>province_Tuscany</th>\n",
       "      <th>province_Washington</th>\n",
       "      <th>region_1_Alsace</th>\n",
       "      <th>region_1_Barolo</th>\n",
       "      <th>region_1_California</th>\n",
       "      <th>region_1_Champagne</th>\n",
       "      <th>region_1_Columbia Valley (WA)</th>\n",
       "      <th>region_1_Mendoza</th>\n",
       "      <th>region_1_Napa Valley</th>\n",
       "      <th>region_1_Other</th>\n",
       "      <th>region_1_Paso Robles</th>\n",
       "      <th>region_1_Russian River Valley</th>\n",
       "      <th>region_1_Willamette Valley</th>\n",
       "      <th>region_2_California Other</th>\n",
       "      <th>region_2_Central Coast</th>\n",
       "      <th>region_2_Central Valley</th>\n",
       "      <th>region_2_Columbia Valley</th>\n",
       "      <th>region_2_Finger Lakes</th>\n",
       "      <th>region_2_Napa</th>\n",
       "      <th>region_2_Napa-Sonoma</th>\n",
       "      <th>region_2_Other</th>\n",
       "      <th>region_2_Sierra Foothills</th>\n",
       "      <th>region_2_Sonoma</th>\n",
       "      <th>region_2_Willamette Valley</th>\n",
       "      <th>winery_Chateau Ste. Michelle</th>\n",
       "      <th>winery_Columbia Crest</th>\n",
       "      <th>winery_Concha y Toro</th>\n",
       "      <th>winery_DFJ Vinhos</th>\n",
       "      <th>winery_Georges Duboeuf</th>\n",
       "      <th>winery_Kendall-Jackson</th>\n",
       "      <th>winery_Louis Latour</th>\n",
       "      <th>winery_Other</th>\n",
       "      <th>winery_Testarossa</th>\n",
       "      <th>winery_Williams Selyem</th>\n",
       "      <th>winery_Wines &amp; Winemakers</th>\n",
       "    </tr>\n",
       "  </thead>\n",
       "  <tbody>\n",
       "    <tr>\n",
       "      <th>0</th>\n",
       "      <td>0</td>\n",
       "      <td>0</td>\n",
       "      <td>0</td>\n",
       "      <td>0</td>\n",
       "      <td>0</td>\n",
       "      <td>0</td>\n",
       "      <td>0</td>\n",
       "      <td>0</td>\n",
       "      <td>0</td>\n",
       "      <td>0</td>\n",
       "      <td>0</td>\n",
       "      <td>0</td>\n",
       "      <td>0</td>\n",
       "      <td>0</td>\n",
       "      <td>0</td>\n",
       "      <td>0</td>\n",
       "      <td>0</td>\n",
       "      <td>0</td>\n",
       "      <td>0</td>\n",
       "      <td>0</td>\n",
       "      <td>0</td>\n",
       "      <td>0</td>\n",
       "      <td>0</td>\n",
       "      <td>0</td>\n",
       "      <td>0</td>\n",
       "      <td>0</td>\n",
       "      <td>0</td>\n",
       "      <td>0</td>\n",
       "      <td>0</td>\n",
       "      <td>0</td>\n",
       "      <td>0</td>\n",
       "      <td>0</td>\n",
       "      <td>0</td>\n",
       "      <td>0</td>\n",
       "      <td>0</td>\n",
       "      <td>0</td>\n",
       "      <td>0</td>\n",
       "      <td>0</td>\n",
       "      <td>0</td>\n",
       "      <td>0</td>\n",
       "      <td>...</td>\n",
       "      <td>0.0</td>\n",
       "      <td>0.0</td>\n",
       "      <td>0.0</td>\n",
       "      <td>1.0</td>\n",
       "      <td>0.0</td>\n",
       "      <td>0.0</td>\n",
       "      <td>0.0</td>\n",
       "      <td>0.0</td>\n",
       "      <td>0.0</td>\n",
       "      <td>0.0</td>\n",
       "      <td>0.0</td>\n",
       "      <td>0.0</td>\n",
       "      <td>0.0</td>\n",
       "      <td>0.0</td>\n",
       "      <td>1.0</td>\n",
       "      <td>0.0</td>\n",
       "      <td>0.0</td>\n",
       "      <td>0.0</td>\n",
       "      <td>0.0</td>\n",
       "      <td>0.0</td>\n",
       "      <td>0.0</td>\n",
       "      <td>0.0</td>\n",
       "      <td>0.0</td>\n",
       "      <td>0.0</td>\n",
       "      <td>0.0</td>\n",
       "      <td>1.0</td>\n",
       "      <td>0.0</td>\n",
       "      <td>0.0</td>\n",
       "      <td>0.0</td>\n",
       "      <td>0.0</td>\n",
       "      <td>0.0</td>\n",
       "      <td>0.0</td>\n",
       "      <td>0.0</td>\n",
       "      <td>0.0</td>\n",
       "      <td>0.0</td>\n",
       "      <td>0.0</td>\n",
       "      <td>1.0</td>\n",
       "      <td>0.0</td>\n",
       "      <td>0.0</td>\n",
       "      <td>0.0</td>\n",
       "    </tr>\n",
       "    <tr>\n",
       "      <th>1</th>\n",
       "      <td>0</td>\n",
       "      <td>0</td>\n",
       "      <td>0</td>\n",
       "      <td>0</td>\n",
       "      <td>0</td>\n",
       "      <td>0</td>\n",
       "      <td>0</td>\n",
       "      <td>0</td>\n",
       "      <td>0</td>\n",
       "      <td>0</td>\n",
       "      <td>0</td>\n",
       "      <td>0</td>\n",
       "      <td>0</td>\n",
       "      <td>0</td>\n",
       "      <td>0</td>\n",
       "      <td>0</td>\n",
       "      <td>0</td>\n",
       "      <td>0</td>\n",
       "      <td>0</td>\n",
       "      <td>0</td>\n",
       "      <td>0</td>\n",
       "      <td>0</td>\n",
       "      <td>0</td>\n",
       "      <td>0</td>\n",
       "      <td>0</td>\n",
       "      <td>0</td>\n",
       "      <td>0</td>\n",
       "      <td>0</td>\n",
       "      <td>0</td>\n",
       "      <td>0</td>\n",
       "      <td>0</td>\n",
       "      <td>0</td>\n",
       "      <td>0</td>\n",
       "      <td>0</td>\n",
       "      <td>0</td>\n",
       "      <td>0</td>\n",
       "      <td>0</td>\n",
       "      <td>0</td>\n",
       "      <td>0</td>\n",
       "      <td>0</td>\n",
       "      <td>...</td>\n",
       "      <td>0.0</td>\n",
       "      <td>0.0</td>\n",
       "      <td>0.0</td>\n",
       "      <td>0.0</td>\n",
       "      <td>0.0</td>\n",
       "      <td>0.0</td>\n",
       "      <td>1.0</td>\n",
       "      <td>0.0</td>\n",
       "      <td>0.0</td>\n",
       "      <td>0.0</td>\n",
       "      <td>0.0</td>\n",
       "      <td>1.0</td>\n",
       "      <td>0.0</td>\n",
       "      <td>0.0</td>\n",
       "      <td>0.0</td>\n",
       "      <td>0.0</td>\n",
       "      <td>0.0</td>\n",
       "      <td>0.0</td>\n",
       "      <td>0.0</td>\n",
       "      <td>0.0</td>\n",
       "      <td>0.0</td>\n",
       "      <td>1.0</td>\n",
       "      <td>0.0</td>\n",
       "      <td>0.0</td>\n",
       "      <td>0.0</td>\n",
       "      <td>0.0</td>\n",
       "      <td>0.0</td>\n",
       "      <td>0.0</td>\n",
       "      <td>0.0</td>\n",
       "      <td>0.0</td>\n",
       "      <td>0.0</td>\n",
       "      <td>0.0</td>\n",
       "      <td>0.0</td>\n",
       "      <td>0.0</td>\n",
       "      <td>0.0</td>\n",
       "      <td>0.0</td>\n",
       "      <td>1.0</td>\n",
       "      <td>0.0</td>\n",
       "      <td>0.0</td>\n",
       "      <td>0.0</td>\n",
       "    </tr>\n",
       "    <tr>\n",
       "      <th>2</th>\n",
       "      <td>0</td>\n",
       "      <td>0</td>\n",
       "      <td>0</td>\n",
       "      <td>0</td>\n",
       "      <td>0</td>\n",
       "      <td>0</td>\n",
       "      <td>0</td>\n",
       "      <td>0</td>\n",
       "      <td>0</td>\n",
       "      <td>0</td>\n",
       "      <td>0</td>\n",
       "      <td>0</td>\n",
       "      <td>0</td>\n",
       "      <td>0</td>\n",
       "      <td>0</td>\n",
       "      <td>0</td>\n",
       "      <td>0</td>\n",
       "      <td>0</td>\n",
       "      <td>0</td>\n",
       "      <td>0</td>\n",
       "      <td>0</td>\n",
       "      <td>0</td>\n",
       "      <td>0</td>\n",
       "      <td>0</td>\n",
       "      <td>0</td>\n",
       "      <td>0</td>\n",
       "      <td>0</td>\n",
       "      <td>0</td>\n",
       "      <td>0</td>\n",
       "      <td>0</td>\n",
       "      <td>0</td>\n",
       "      <td>0</td>\n",
       "      <td>0</td>\n",
       "      <td>0</td>\n",
       "      <td>0</td>\n",
       "      <td>0</td>\n",
       "      <td>0</td>\n",
       "      <td>0</td>\n",
       "      <td>0</td>\n",
       "      <td>0</td>\n",
       "      <td>...</td>\n",
       "      <td>0.0</td>\n",
       "      <td>0.0</td>\n",
       "      <td>0.0</td>\n",
       "      <td>0.0</td>\n",
       "      <td>1.0</td>\n",
       "      <td>0.0</td>\n",
       "      <td>0.0</td>\n",
       "      <td>0.0</td>\n",
       "      <td>1.0</td>\n",
       "      <td>0.0</td>\n",
       "      <td>0.0</td>\n",
       "      <td>0.0</td>\n",
       "      <td>0.0</td>\n",
       "      <td>0.0</td>\n",
       "      <td>0.0</td>\n",
       "      <td>0.0</td>\n",
       "      <td>0.0</td>\n",
       "      <td>0.0</td>\n",
       "      <td>0.0</td>\n",
       "      <td>0.0</td>\n",
       "      <td>0.0</td>\n",
       "      <td>0.0</td>\n",
       "      <td>0.0</td>\n",
       "      <td>0.0</td>\n",
       "      <td>0.0</td>\n",
       "      <td>1.0</td>\n",
       "      <td>0.0</td>\n",
       "      <td>0.0</td>\n",
       "      <td>0.0</td>\n",
       "      <td>0.0</td>\n",
       "      <td>0.0</td>\n",
       "      <td>0.0</td>\n",
       "      <td>0.0</td>\n",
       "      <td>0.0</td>\n",
       "      <td>0.0</td>\n",
       "      <td>0.0</td>\n",
       "      <td>1.0</td>\n",
       "      <td>0.0</td>\n",
       "      <td>0.0</td>\n",
       "      <td>0.0</td>\n",
       "    </tr>\n",
       "    <tr>\n",
       "      <th>3</th>\n",
       "      <td>0</td>\n",
       "      <td>0</td>\n",
       "      <td>0</td>\n",
       "      <td>0</td>\n",
       "      <td>0</td>\n",
       "      <td>0</td>\n",
       "      <td>0</td>\n",
       "      <td>0</td>\n",
       "      <td>0</td>\n",
       "      <td>0</td>\n",
       "      <td>0</td>\n",
       "      <td>0</td>\n",
       "      <td>0</td>\n",
       "      <td>0</td>\n",
       "      <td>0</td>\n",
       "      <td>0</td>\n",
       "      <td>0</td>\n",
       "      <td>0</td>\n",
       "      <td>0</td>\n",
       "      <td>0</td>\n",
       "      <td>0</td>\n",
       "      <td>0</td>\n",
       "      <td>0</td>\n",
       "      <td>0</td>\n",
       "      <td>0</td>\n",
       "      <td>0</td>\n",
       "      <td>0</td>\n",
       "      <td>0</td>\n",
       "      <td>0</td>\n",
       "      <td>0</td>\n",
       "      <td>0</td>\n",
       "      <td>0</td>\n",
       "      <td>0</td>\n",
       "      <td>0</td>\n",
       "      <td>0</td>\n",
       "      <td>0</td>\n",
       "      <td>0</td>\n",
       "      <td>0</td>\n",
       "      <td>0</td>\n",
       "      <td>0</td>\n",
       "      <td>...</td>\n",
       "      <td>0.0</td>\n",
       "      <td>0.0</td>\n",
       "      <td>0.0</td>\n",
       "      <td>1.0</td>\n",
       "      <td>0.0</td>\n",
       "      <td>0.0</td>\n",
       "      <td>0.0</td>\n",
       "      <td>0.0</td>\n",
       "      <td>0.0</td>\n",
       "      <td>0.0</td>\n",
       "      <td>0.0</td>\n",
       "      <td>0.0</td>\n",
       "      <td>0.0</td>\n",
       "      <td>0.0</td>\n",
       "      <td>1.0</td>\n",
       "      <td>0.0</td>\n",
       "      <td>0.0</td>\n",
       "      <td>0.0</td>\n",
       "      <td>0.0</td>\n",
       "      <td>0.0</td>\n",
       "      <td>0.0</td>\n",
       "      <td>0.0</td>\n",
       "      <td>0.0</td>\n",
       "      <td>0.0</td>\n",
       "      <td>0.0</td>\n",
       "      <td>1.0</td>\n",
       "      <td>0.0</td>\n",
       "      <td>0.0</td>\n",
       "      <td>0.0</td>\n",
       "      <td>0.0</td>\n",
       "      <td>0.0</td>\n",
       "      <td>0.0</td>\n",
       "      <td>0.0</td>\n",
       "      <td>0.0</td>\n",
       "      <td>0.0</td>\n",
       "      <td>0.0</td>\n",
       "      <td>1.0</td>\n",
       "      <td>0.0</td>\n",
       "      <td>0.0</td>\n",
       "      <td>0.0</td>\n",
       "    </tr>\n",
       "    <tr>\n",
       "      <th>4</th>\n",
       "      <td>0</td>\n",
       "      <td>0</td>\n",
       "      <td>0</td>\n",
       "      <td>0</td>\n",
       "      <td>0</td>\n",
       "      <td>0</td>\n",
       "      <td>0</td>\n",
       "      <td>0</td>\n",
       "      <td>0</td>\n",
       "      <td>0</td>\n",
       "      <td>0</td>\n",
       "      <td>0</td>\n",
       "      <td>0</td>\n",
       "      <td>0</td>\n",
       "      <td>0</td>\n",
       "      <td>0</td>\n",
       "      <td>0</td>\n",
       "      <td>0</td>\n",
       "      <td>0</td>\n",
       "      <td>0</td>\n",
       "      <td>0</td>\n",
       "      <td>0</td>\n",
       "      <td>0</td>\n",
       "      <td>0</td>\n",
       "      <td>0</td>\n",
       "      <td>0</td>\n",
       "      <td>0</td>\n",
       "      <td>0</td>\n",
       "      <td>0</td>\n",
       "      <td>0</td>\n",
       "      <td>0</td>\n",
       "      <td>0</td>\n",
       "      <td>0</td>\n",
       "      <td>0</td>\n",
       "      <td>0</td>\n",
       "      <td>0</td>\n",
       "      <td>0</td>\n",
       "      <td>0</td>\n",
       "      <td>0</td>\n",
       "      <td>0</td>\n",
       "      <td>...</td>\n",
       "      <td>0.0</td>\n",
       "      <td>0.0</td>\n",
       "      <td>0.0</td>\n",
       "      <td>1.0</td>\n",
       "      <td>0.0</td>\n",
       "      <td>0.0</td>\n",
       "      <td>0.0</td>\n",
       "      <td>0.0</td>\n",
       "      <td>0.0</td>\n",
       "      <td>0.0</td>\n",
       "      <td>0.0</td>\n",
       "      <td>0.0</td>\n",
       "      <td>0.0</td>\n",
       "      <td>0.0</td>\n",
       "      <td>1.0</td>\n",
       "      <td>0.0</td>\n",
       "      <td>0.0</td>\n",
       "      <td>0.0</td>\n",
       "      <td>0.0</td>\n",
       "      <td>0.0</td>\n",
       "      <td>0.0</td>\n",
       "      <td>0.0</td>\n",
       "      <td>0.0</td>\n",
       "      <td>0.0</td>\n",
       "      <td>0.0</td>\n",
       "      <td>1.0</td>\n",
       "      <td>0.0</td>\n",
       "      <td>0.0</td>\n",
       "      <td>0.0</td>\n",
       "      <td>0.0</td>\n",
       "      <td>0.0</td>\n",
       "      <td>0.0</td>\n",
       "      <td>0.0</td>\n",
       "      <td>0.0</td>\n",
       "      <td>0.0</td>\n",
       "      <td>0.0</td>\n",
       "      <td>1.0</td>\n",
       "      <td>0.0</td>\n",
       "      <td>0.0</td>\n",
       "      <td>0.0</td>\n",
       "    </tr>\n",
       "  </tbody>\n",
       "</table>\n",
       "<p>5 rows × 5066 columns</p>\n",
       "</div>"
      ],
      "text/plain": [
       "   ability  able  ...  winery_Williams Selyem  winery_Wines & Winemakers\n",
       "0        0     0  ...                     0.0                        0.0\n",
       "1        0     0  ...                     0.0                        0.0\n",
       "2        0     0  ...                     0.0                        0.0\n",
       "3        0     0  ...                     0.0                        0.0\n",
       "4        0     0  ...                     0.0                        0.0\n",
       "\n",
       "[5 rows x 5066 columns]"
      ]
     },
     "execution_count": 34,
     "metadata": {
      "tags": []
     },
     "output_type": "execute_result"
    }
   ],
   "source": [
    "print(sparse_df.shape)\n",
    "sparse_df.head()"
   ]
  },
  {
   "cell_type": "code",
   "execution_count": 35,
   "metadata": {
    "colab": {
     "base_uri": "https://localhost:8080/",
     "height": 50
    },
    "colab_type": "code",
    "id": "UoxkJw0Jko7T",
    "outputId": "393903d2-0246-4886-d263-b46521aa053a"
   },
   "outputs": [
    {
     "name": "stdout",
     "output_type": "stream",
     "text": [
      "(82657,)\n",
      "[ 5 17 11 ...  6  0  3]\n"
     ]
    }
   ],
   "source": [
    "target_encoder = LabelEncoder()\n",
    "\n",
    "encoded_target = target_encoder.fit_transform(NB_cleaned_data['variety'])\n",
    "\n",
    "print(encoded_target.shape)\n",
    "print(encoded_target)"
   ]
  },
  {
   "cell_type": "markdown",
   "metadata": {
    "colab_type": "text",
    "id": "vOAG8Fshko6O"
   },
   "source": [
    "# MODEL DEVELOPMENT"
   ]
  },
  {
   "cell_type": "markdown",
   "metadata": {
    "colab_type": "text",
    "id": "lGzU7g7cko69"
   },
   "source": [
    "### NAIVE BAYES MODEL(BASE MODEL)"
   ]
  },
  {
   "cell_type": "code",
   "execution_count": 0,
   "metadata": {
    "colab": {},
    "colab_type": "code",
    "id": "V3SSEiEhko7V"
   },
   "outputs": [],
   "source": [
    "nb_trainx, nb_testx, nb_trainy, nb_testy = train_test_split(sparse_df, encoded_target, \n",
    "                                                            test_size=.2, shuffle=True, stratify=encoded_target)"
   ]
  },
  {
   "cell_type": "code",
   "execution_count": 39,
   "metadata": {
    "colab": {
     "base_uri": "https://localhost:8080/",
     "height": 34
    },
    "colab_type": "code",
    "id": "FhjdiXS4ko7Z",
    "outputId": "1fb94eea-4685-41f9-c920-603dc0f7b2e1"
   },
   "outputs": [
    {
     "data": {
      "text/plain": [
       "BernoulliNB(alpha=1.0, binarize=0.0, class_prior=None, fit_prior=True)"
      ]
     },
     "execution_count": 39,
     "metadata": {
      "tags": []
     },
     "output_type": "execute_result"
    }
   ],
   "source": [
    "bnb_model = BernoulliNB()\n",
    "\n",
    "bnb_model.fit(nb_trainx, nb_trainy)"
   ]
  },
  {
   "cell_type": "code",
   "execution_count": 40,
   "metadata": {
    "colab": {
     "base_uri": "https://localhost:8080/",
     "height": 34
    },
    "colab_type": "code",
    "id": "FizTmbDtko7b",
    "outputId": "224872fc-b911-4a9c-b067-ff1cbe38dc6b"
   },
   "outputs": [
    {
     "data": {
      "text/plain": [
       "0.633861601742076"
      ]
     },
     "execution_count": 40,
     "metadata": {
      "tags": []
     },
     "output_type": "execute_result"
    }
   ],
   "source": [
    "bnb_model.score(nb_testx, nb_testy)"
   ]
  },
  {
   "cell_type": "markdown",
   "metadata": {
    "colab_type": "text",
    "id": "H9-ceiYi3YLm"
   },
   "source": [
    "<b>We got approximately 63.5% accuracy from our base model</b>\n",
    "\n",
    "For processing test data we can use below function and then we can use that processed test data to predict label by our bnb_model \n",
    "\n",
    "But I will explore another model then I will decide which is better to predict test dataset."
   ]
  },
  {
   "cell_type": "code",
   "execution_count": 0,
   "metadata": {
    "colab": {},
    "colab_type": "code",
    "id": "ba4urEjEko7f"
   },
   "outputs": [],
   "source": [
    "def process_testdata_vectorized(temp_data, top_values, vectorizer, encoder_dict):\n",
    "    data = temp_data.copy()\n",
    "    \n",
    "    data['price'] = np.where((data.price < 1000), data.price, data.price.median())\n",
    "    data['points'] = np.where((data.points < 100), data.points, data.points.mean())\n",
    "    \n",
    "    for column in ['user_name', 'country', 'designation', 'province', 'region_1', 'region_2', 'winery']:\n",
    "        data[column] = data[column].apply(lambda x: 'Other' if x not in top_values[column] else x)\n",
    "        \n",
    "    data['user_name'] = data['user_name'].apply(lambda x:re.sub('[^a-zA-Z ]+','',str(x)))\n",
    "    \n",
    "    data = data.drop(columns=['review_title', 'designation'])\n",
    "    \n",
    "    data = clean_review(data, 'review_description')\n",
    "    \n",
    "    sparse_matrix = vectorizer.transform(data['review_description'])\n",
    "\n",
    "    sparse_input = pd.DataFrame.sparse.from_spmatrix(sparse_matrix, columns=vectorizer.get_feature_names())\n",
    "    \n",
    "    for column in ['user_name', 'country', 'province', 'region_1', 'region_2', 'winery']:\n",
    "        encoded_input = encoder_dict[column].transform(data[[column]])\n",
    "        \n",
    "        df_input = pd.DataFrame(encoded_input, columns=[f\"{column}_{x}\" for x in ((encoder_dict[column].categories_[0]).tolist())])\n",
    "        \n",
    "        sparse_input = pd.concat([sparse_input, df_input], axis=1)\n",
    "\n",
    "    return sparse_input"
   ]
  },
  {
   "cell_type": "code",
   "execution_count": 0,
   "metadata": {
    "colab": {},
    "colab_type": "code",
    "id": "mf_YcFD_ko7i"
   },
   "outputs": [],
   "source": [
    "bnb_input_data = process_testdata_vectorized(test_data, top_values, vectorizer, encoder_dict)"
   ]
  },
  {
   "cell_type": "code",
   "execution_count": 43,
   "metadata": {
    "colab": {
     "base_uri": "https://localhost:8080/",
     "height": 278
    },
    "colab_type": "code",
    "id": "TJ996y-vko7m",
    "outputId": "fc312aa8-5f6b-4925-d887-f37868e35cc4"
   },
   "outputs": [
    {
     "name": "stdout",
     "output_type": "stream",
     "text": [
      "(20665, 5066)\n"
     ]
    },
    {
     "data": {
      "text/html": [
       "<div>\n",
       "<style scoped>\n",
       "    .dataframe tbody tr th:only-of-type {\n",
       "        vertical-align: middle;\n",
       "    }\n",
       "\n",
       "    .dataframe tbody tr th {\n",
       "        vertical-align: top;\n",
       "    }\n",
       "\n",
       "    .dataframe thead th {\n",
       "        text-align: right;\n",
       "    }\n",
       "</style>\n",
       "<table border=\"1\" class=\"dataframe\">\n",
       "  <thead>\n",
       "    <tr style=\"text-align: right;\">\n",
       "      <th></th>\n",
       "      <th>ability</th>\n",
       "      <th>able</th>\n",
       "      <th>abound</th>\n",
       "      <th>abounds</th>\n",
       "      <th>abrasive</th>\n",
       "      <th>abrupt</th>\n",
       "      <th>abruptly</th>\n",
       "      <th>absolute</th>\n",
       "      <th>absolutely</th>\n",
       "      <th>abundance</th>\n",
       "      <th>abundant</th>\n",
       "      <th>abv</th>\n",
       "      <th>acacia</th>\n",
       "      <th>accent</th>\n",
       "      <th>accented</th>\n",
       "      <th>accenting</th>\n",
       "      <th>accents</th>\n",
       "      <th>accentuate</th>\n",
       "      <th>accentuated</th>\n",
       "      <th>accentuates</th>\n",
       "      <th>accentuating</th>\n",
       "      <th>acceptable</th>\n",
       "      <th>accessible</th>\n",
       "      <th>accompanied</th>\n",
       "      <th>accompanies</th>\n",
       "      <th>accompaniment</th>\n",
       "      <th>accompany</th>\n",
       "      <th>accompanying</th>\n",
       "      <th>achieve</th>\n",
       "      <th>achieved</th>\n",
       "      <th>achievement</th>\n",
       "      <th>achieves</th>\n",
       "      <th>acid</th>\n",
       "      <th>aciddriven</th>\n",
       "      <th>acidic</th>\n",
       "      <th>acidity</th>\n",
       "      <th>acids</th>\n",
       "      <th>acidtannin</th>\n",
       "      <th>acre</th>\n",
       "      <th>acres</th>\n",
       "      <th>...</th>\n",
       "      <th>province_Mendoza Province</th>\n",
       "      <th>province_New York</th>\n",
       "      <th>province_Oregon</th>\n",
       "      <th>province_Other</th>\n",
       "      <th>province_Piedmont</th>\n",
       "      <th>province_Tuscany</th>\n",
       "      <th>province_Washington</th>\n",
       "      <th>region_1_Alsace</th>\n",
       "      <th>region_1_Barolo</th>\n",
       "      <th>region_1_California</th>\n",
       "      <th>region_1_Champagne</th>\n",
       "      <th>region_1_Columbia Valley (WA)</th>\n",
       "      <th>region_1_Mendoza</th>\n",
       "      <th>region_1_Napa Valley</th>\n",
       "      <th>region_1_Other</th>\n",
       "      <th>region_1_Paso Robles</th>\n",
       "      <th>region_1_Russian River Valley</th>\n",
       "      <th>region_1_Willamette Valley</th>\n",
       "      <th>region_2_California Other</th>\n",
       "      <th>region_2_Central Coast</th>\n",
       "      <th>region_2_Central Valley</th>\n",
       "      <th>region_2_Columbia Valley</th>\n",
       "      <th>region_2_Finger Lakes</th>\n",
       "      <th>region_2_Napa</th>\n",
       "      <th>region_2_Napa-Sonoma</th>\n",
       "      <th>region_2_Other</th>\n",
       "      <th>region_2_Sierra Foothills</th>\n",
       "      <th>region_2_Sonoma</th>\n",
       "      <th>region_2_Willamette Valley</th>\n",
       "      <th>winery_Chateau Ste. Michelle</th>\n",
       "      <th>winery_Columbia Crest</th>\n",
       "      <th>winery_Concha y Toro</th>\n",
       "      <th>winery_DFJ Vinhos</th>\n",
       "      <th>winery_Georges Duboeuf</th>\n",
       "      <th>winery_Kendall-Jackson</th>\n",
       "      <th>winery_Louis Latour</th>\n",
       "      <th>winery_Other</th>\n",
       "      <th>winery_Testarossa</th>\n",
       "      <th>winery_Williams Selyem</th>\n",
       "      <th>winery_Wines &amp; Winemakers</th>\n",
       "    </tr>\n",
       "  </thead>\n",
       "  <tbody>\n",
       "    <tr>\n",
       "      <th>0</th>\n",
       "      <td>0</td>\n",
       "      <td>0</td>\n",
       "      <td>0</td>\n",
       "      <td>0</td>\n",
       "      <td>0</td>\n",
       "      <td>0</td>\n",
       "      <td>0</td>\n",
       "      <td>0</td>\n",
       "      <td>0</td>\n",
       "      <td>0</td>\n",
       "      <td>0</td>\n",
       "      <td>0</td>\n",
       "      <td>0</td>\n",
       "      <td>0</td>\n",
       "      <td>0</td>\n",
       "      <td>0</td>\n",
       "      <td>0</td>\n",
       "      <td>0</td>\n",
       "      <td>0</td>\n",
       "      <td>0</td>\n",
       "      <td>0</td>\n",
       "      <td>0</td>\n",
       "      <td>0</td>\n",
       "      <td>0</td>\n",
       "      <td>0</td>\n",
       "      <td>0</td>\n",
       "      <td>0</td>\n",
       "      <td>0</td>\n",
       "      <td>0</td>\n",
       "      <td>0</td>\n",
       "      <td>0</td>\n",
       "      <td>0</td>\n",
       "      <td>0</td>\n",
       "      <td>0</td>\n",
       "      <td>0</td>\n",
       "      <td>0</td>\n",
       "      <td>0</td>\n",
       "      <td>0</td>\n",
       "      <td>0</td>\n",
       "      <td>0</td>\n",
       "      <td>...</td>\n",
       "      <td>0.0</td>\n",
       "      <td>0.0</td>\n",
       "      <td>1.0</td>\n",
       "      <td>0.0</td>\n",
       "      <td>0.0</td>\n",
       "      <td>0.0</td>\n",
       "      <td>0.0</td>\n",
       "      <td>0.0</td>\n",
       "      <td>0.0</td>\n",
       "      <td>0.0</td>\n",
       "      <td>0.0</td>\n",
       "      <td>0.0</td>\n",
       "      <td>0.0</td>\n",
       "      <td>0.0</td>\n",
       "      <td>0.0</td>\n",
       "      <td>0.0</td>\n",
       "      <td>0.0</td>\n",
       "      <td>1.0</td>\n",
       "      <td>0.0</td>\n",
       "      <td>0.0</td>\n",
       "      <td>0.0</td>\n",
       "      <td>0.0</td>\n",
       "      <td>0.0</td>\n",
       "      <td>0.0</td>\n",
       "      <td>0.0</td>\n",
       "      <td>0.0</td>\n",
       "      <td>0.0</td>\n",
       "      <td>0.0</td>\n",
       "      <td>1.0</td>\n",
       "      <td>0.0</td>\n",
       "      <td>0.0</td>\n",
       "      <td>0.0</td>\n",
       "      <td>0.0</td>\n",
       "      <td>0.0</td>\n",
       "      <td>0.0</td>\n",
       "      <td>0.0</td>\n",
       "      <td>1.0</td>\n",
       "      <td>0.0</td>\n",
       "      <td>0.0</td>\n",
       "      <td>0.0</td>\n",
       "    </tr>\n",
       "    <tr>\n",
       "      <th>1</th>\n",
       "      <td>0</td>\n",
       "      <td>0</td>\n",
       "      <td>0</td>\n",
       "      <td>0</td>\n",
       "      <td>0</td>\n",
       "      <td>0</td>\n",
       "      <td>0</td>\n",
       "      <td>0</td>\n",
       "      <td>0</td>\n",
       "      <td>0</td>\n",
       "      <td>0</td>\n",
       "      <td>0</td>\n",
       "      <td>0</td>\n",
       "      <td>0</td>\n",
       "      <td>0</td>\n",
       "      <td>0</td>\n",
       "      <td>0</td>\n",
       "      <td>0</td>\n",
       "      <td>0</td>\n",
       "      <td>0</td>\n",
       "      <td>0</td>\n",
       "      <td>0</td>\n",
       "      <td>0</td>\n",
       "      <td>0</td>\n",
       "      <td>0</td>\n",
       "      <td>0</td>\n",
       "      <td>0</td>\n",
       "      <td>0</td>\n",
       "      <td>0</td>\n",
       "      <td>0</td>\n",
       "      <td>0</td>\n",
       "      <td>0</td>\n",
       "      <td>0</td>\n",
       "      <td>0</td>\n",
       "      <td>0</td>\n",
       "      <td>0</td>\n",
       "      <td>0</td>\n",
       "      <td>0</td>\n",
       "      <td>0</td>\n",
       "      <td>0</td>\n",
       "      <td>...</td>\n",
       "      <td>1.0</td>\n",
       "      <td>0.0</td>\n",
       "      <td>0.0</td>\n",
       "      <td>0.0</td>\n",
       "      <td>0.0</td>\n",
       "      <td>0.0</td>\n",
       "      <td>0.0</td>\n",
       "      <td>0.0</td>\n",
       "      <td>0.0</td>\n",
       "      <td>0.0</td>\n",
       "      <td>0.0</td>\n",
       "      <td>0.0</td>\n",
       "      <td>1.0</td>\n",
       "      <td>0.0</td>\n",
       "      <td>0.0</td>\n",
       "      <td>0.0</td>\n",
       "      <td>0.0</td>\n",
       "      <td>0.0</td>\n",
       "      <td>0.0</td>\n",
       "      <td>0.0</td>\n",
       "      <td>0.0</td>\n",
       "      <td>0.0</td>\n",
       "      <td>0.0</td>\n",
       "      <td>0.0</td>\n",
       "      <td>0.0</td>\n",
       "      <td>1.0</td>\n",
       "      <td>0.0</td>\n",
       "      <td>0.0</td>\n",
       "      <td>0.0</td>\n",
       "      <td>0.0</td>\n",
       "      <td>0.0</td>\n",
       "      <td>0.0</td>\n",
       "      <td>0.0</td>\n",
       "      <td>0.0</td>\n",
       "      <td>0.0</td>\n",
       "      <td>0.0</td>\n",
       "      <td>1.0</td>\n",
       "      <td>0.0</td>\n",
       "      <td>0.0</td>\n",
       "      <td>0.0</td>\n",
       "    </tr>\n",
       "    <tr>\n",
       "      <th>2</th>\n",
       "      <td>0</td>\n",
       "      <td>0</td>\n",
       "      <td>0</td>\n",
       "      <td>0</td>\n",
       "      <td>0</td>\n",
       "      <td>0</td>\n",
       "      <td>0</td>\n",
       "      <td>0</td>\n",
       "      <td>0</td>\n",
       "      <td>0</td>\n",
       "      <td>0</td>\n",
       "      <td>0</td>\n",
       "      <td>1</td>\n",
       "      <td>0</td>\n",
       "      <td>0</td>\n",
       "      <td>0</td>\n",
       "      <td>0</td>\n",
       "      <td>0</td>\n",
       "      <td>0</td>\n",
       "      <td>0</td>\n",
       "      <td>0</td>\n",
       "      <td>0</td>\n",
       "      <td>0</td>\n",
       "      <td>0</td>\n",
       "      <td>0</td>\n",
       "      <td>0</td>\n",
       "      <td>0</td>\n",
       "      <td>0</td>\n",
       "      <td>0</td>\n",
       "      <td>0</td>\n",
       "      <td>0</td>\n",
       "      <td>0</td>\n",
       "      <td>0</td>\n",
       "      <td>0</td>\n",
       "      <td>0</td>\n",
       "      <td>0</td>\n",
       "      <td>0</td>\n",
       "      <td>0</td>\n",
       "      <td>0</td>\n",
       "      <td>0</td>\n",
       "      <td>...</td>\n",
       "      <td>0.0</td>\n",
       "      <td>0.0</td>\n",
       "      <td>0.0</td>\n",
       "      <td>0.0</td>\n",
       "      <td>0.0</td>\n",
       "      <td>0.0</td>\n",
       "      <td>0.0</td>\n",
       "      <td>0.0</td>\n",
       "      <td>0.0</td>\n",
       "      <td>0.0</td>\n",
       "      <td>0.0</td>\n",
       "      <td>0.0</td>\n",
       "      <td>0.0</td>\n",
       "      <td>0.0</td>\n",
       "      <td>1.0</td>\n",
       "      <td>0.0</td>\n",
       "      <td>0.0</td>\n",
       "      <td>0.0</td>\n",
       "      <td>0.0</td>\n",
       "      <td>0.0</td>\n",
       "      <td>0.0</td>\n",
       "      <td>0.0</td>\n",
       "      <td>0.0</td>\n",
       "      <td>1.0</td>\n",
       "      <td>0.0</td>\n",
       "      <td>0.0</td>\n",
       "      <td>0.0</td>\n",
       "      <td>0.0</td>\n",
       "      <td>0.0</td>\n",
       "      <td>0.0</td>\n",
       "      <td>0.0</td>\n",
       "      <td>0.0</td>\n",
       "      <td>0.0</td>\n",
       "      <td>0.0</td>\n",
       "      <td>0.0</td>\n",
       "      <td>0.0</td>\n",
       "      <td>1.0</td>\n",
       "      <td>0.0</td>\n",
       "      <td>0.0</td>\n",
       "      <td>0.0</td>\n",
       "    </tr>\n",
       "    <tr>\n",
       "      <th>3</th>\n",
       "      <td>0</td>\n",
       "      <td>0</td>\n",
       "      <td>0</td>\n",
       "      <td>0</td>\n",
       "      <td>0</td>\n",
       "      <td>0</td>\n",
       "      <td>0</td>\n",
       "      <td>0</td>\n",
       "      <td>0</td>\n",
       "      <td>0</td>\n",
       "      <td>0</td>\n",
       "      <td>0</td>\n",
       "      <td>0</td>\n",
       "      <td>0</td>\n",
       "      <td>0</td>\n",
       "      <td>0</td>\n",
       "      <td>0</td>\n",
       "      <td>0</td>\n",
       "      <td>0</td>\n",
       "      <td>0</td>\n",
       "      <td>0</td>\n",
       "      <td>0</td>\n",
       "      <td>0</td>\n",
       "      <td>0</td>\n",
       "      <td>0</td>\n",
       "      <td>0</td>\n",
       "      <td>0</td>\n",
       "      <td>0</td>\n",
       "      <td>0</td>\n",
       "      <td>0</td>\n",
       "      <td>0</td>\n",
       "      <td>0</td>\n",
       "      <td>0</td>\n",
       "      <td>0</td>\n",
       "      <td>0</td>\n",
       "      <td>1</td>\n",
       "      <td>0</td>\n",
       "      <td>0</td>\n",
       "      <td>0</td>\n",
       "      <td>0</td>\n",
       "      <td>...</td>\n",
       "      <td>1.0</td>\n",
       "      <td>0.0</td>\n",
       "      <td>0.0</td>\n",
       "      <td>0.0</td>\n",
       "      <td>0.0</td>\n",
       "      <td>0.0</td>\n",
       "      <td>0.0</td>\n",
       "      <td>0.0</td>\n",
       "      <td>0.0</td>\n",
       "      <td>0.0</td>\n",
       "      <td>0.0</td>\n",
       "      <td>0.0</td>\n",
       "      <td>1.0</td>\n",
       "      <td>0.0</td>\n",
       "      <td>0.0</td>\n",
       "      <td>0.0</td>\n",
       "      <td>0.0</td>\n",
       "      <td>0.0</td>\n",
       "      <td>0.0</td>\n",
       "      <td>0.0</td>\n",
       "      <td>0.0</td>\n",
       "      <td>0.0</td>\n",
       "      <td>0.0</td>\n",
       "      <td>0.0</td>\n",
       "      <td>0.0</td>\n",
       "      <td>1.0</td>\n",
       "      <td>0.0</td>\n",
       "      <td>0.0</td>\n",
       "      <td>0.0</td>\n",
       "      <td>0.0</td>\n",
       "      <td>0.0</td>\n",
       "      <td>0.0</td>\n",
       "      <td>0.0</td>\n",
       "      <td>0.0</td>\n",
       "      <td>0.0</td>\n",
       "      <td>0.0</td>\n",
       "      <td>1.0</td>\n",
       "      <td>0.0</td>\n",
       "      <td>0.0</td>\n",
       "      <td>0.0</td>\n",
       "    </tr>\n",
       "    <tr>\n",
       "      <th>4</th>\n",
       "      <td>0</td>\n",
       "      <td>0</td>\n",
       "      <td>0</td>\n",
       "      <td>0</td>\n",
       "      <td>0</td>\n",
       "      <td>0</td>\n",
       "      <td>0</td>\n",
       "      <td>0</td>\n",
       "      <td>0</td>\n",
       "      <td>0</td>\n",
       "      <td>0</td>\n",
       "      <td>0</td>\n",
       "      <td>0</td>\n",
       "      <td>0</td>\n",
       "      <td>0</td>\n",
       "      <td>0</td>\n",
       "      <td>0</td>\n",
       "      <td>0</td>\n",
       "      <td>0</td>\n",
       "      <td>0</td>\n",
       "      <td>0</td>\n",
       "      <td>0</td>\n",
       "      <td>0</td>\n",
       "      <td>0</td>\n",
       "      <td>0</td>\n",
       "      <td>0</td>\n",
       "      <td>0</td>\n",
       "      <td>0</td>\n",
       "      <td>0</td>\n",
       "      <td>0</td>\n",
       "      <td>0</td>\n",
       "      <td>0</td>\n",
       "      <td>0</td>\n",
       "      <td>0</td>\n",
       "      <td>0</td>\n",
       "      <td>0</td>\n",
       "      <td>0</td>\n",
       "      <td>0</td>\n",
       "      <td>0</td>\n",
       "      <td>0</td>\n",
       "      <td>...</td>\n",
       "      <td>0.0</td>\n",
       "      <td>0.0</td>\n",
       "      <td>0.0</td>\n",
       "      <td>0.0</td>\n",
       "      <td>0.0</td>\n",
       "      <td>1.0</td>\n",
       "      <td>0.0</td>\n",
       "      <td>0.0</td>\n",
       "      <td>0.0</td>\n",
       "      <td>0.0</td>\n",
       "      <td>0.0</td>\n",
       "      <td>0.0</td>\n",
       "      <td>0.0</td>\n",
       "      <td>0.0</td>\n",
       "      <td>1.0</td>\n",
       "      <td>0.0</td>\n",
       "      <td>0.0</td>\n",
       "      <td>0.0</td>\n",
       "      <td>0.0</td>\n",
       "      <td>0.0</td>\n",
       "      <td>0.0</td>\n",
       "      <td>0.0</td>\n",
       "      <td>0.0</td>\n",
       "      <td>0.0</td>\n",
       "      <td>0.0</td>\n",
       "      <td>1.0</td>\n",
       "      <td>0.0</td>\n",
       "      <td>0.0</td>\n",
       "      <td>0.0</td>\n",
       "      <td>0.0</td>\n",
       "      <td>0.0</td>\n",
       "      <td>0.0</td>\n",
       "      <td>0.0</td>\n",
       "      <td>0.0</td>\n",
       "      <td>0.0</td>\n",
       "      <td>0.0</td>\n",
       "      <td>1.0</td>\n",
       "      <td>0.0</td>\n",
       "      <td>0.0</td>\n",
       "      <td>0.0</td>\n",
       "    </tr>\n",
       "  </tbody>\n",
       "</table>\n",
       "<p>5 rows × 5066 columns</p>\n",
       "</div>"
      ],
      "text/plain": [
       "   ability  able  ...  winery_Williams Selyem  winery_Wines & Winemakers\n",
       "0        0     0  ...                     0.0                        0.0\n",
       "1        0     0  ...                     0.0                        0.0\n",
       "2        0     0  ...                     0.0                        0.0\n",
       "3        0     0  ...                     0.0                        0.0\n",
       "4        0     0  ...                     0.0                        0.0\n",
       "\n",
       "[5 rows x 5066 columns]"
      ]
     },
     "execution_count": 43,
     "metadata": {
      "tags": []
     },
     "output_type": "execute_result"
    }
   ],
   "source": [
    "print(bnb_input_data.shape)\n",
    "bnb_input_data.head()"
   ]
  },
  {
   "cell_type": "markdown",
   "metadata": {
    "colab_type": "text",
    "id": "p0X7u7giko6T"
   },
   "source": [
    "### CATBOOST MODEL"
   ]
  },
  {
   "cell_type": "markdown",
   "metadata": {
    "colab_type": "text",
    "id": "ML7asteS4OrM"
   },
   "source": [
    "Catboost is a <b>boosting tree approach</b> which is optimized for categorical features.\n",
    "\n",
    "When using these model we don't even have to encode our categorical and text data. It takes of everything with some parameters.\n",
    "\n",
    "These model was developed by yandex and documentation can be found at <b>catboost.ai</b>\n",
    "\n",
    "How Catboost Works?\n",
    "\n",
    "Well it has different techniques to encode categorical data which includes one_hot_encoding, Counter, BinarizedTargetMeanValue, etc.\n",
    "\n",
    "<b>We can decide how categorical and text is processed by parameters.</b>\n"
   ]
  },
  {
   "cell_type": "code",
   "execution_count": 44,
   "metadata": {
    "colab": {
     "base_uri": "https://localhost:8080/",
     "height": 313
    },
    "colab_type": "code",
    "id": "bgu9nSzLko6P",
    "outputId": "86e943f9-4898-4e31-b177-ed81dff6a2b7"
   },
   "outputs": [
    {
     "data": {
      "text/html": [
       "<div>\n",
       "<style scoped>\n",
       "    .dataframe tbody tr th:only-of-type {\n",
       "        vertical-align: middle;\n",
       "    }\n",
       "\n",
       "    .dataframe tbody tr th {\n",
       "        vertical-align: top;\n",
       "    }\n",
       "\n",
       "    .dataframe thead th {\n",
       "        text-align: right;\n",
       "    }\n",
       "</style>\n",
       "<table border=\"1\" class=\"dataframe\">\n",
       "  <thead>\n",
       "    <tr style=\"text-align: right;\">\n",
       "      <th></th>\n",
       "      <th>user_name</th>\n",
       "      <th>country</th>\n",
       "      <th>review_title</th>\n",
       "      <th>review_description</th>\n",
       "      <th>designation</th>\n",
       "      <th>points</th>\n",
       "      <th>price</th>\n",
       "      <th>province</th>\n",
       "      <th>region_1</th>\n",
       "      <th>region_2</th>\n",
       "      <th>winery</th>\n",
       "      <th>variety</th>\n",
       "    </tr>\n",
       "  </thead>\n",
       "  <tbody>\n",
       "    <tr>\n",
       "      <th>0</th>\n",
       "      <td>Other</td>\n",
       "      <td>Other</td>\n",
       "      <td>Andrew Peace 2007 Peace Family Vineyard Chardo...</td>\n",
       "      <td>Classic Chardonnay aromas of apple, pear and h...</td>\n",
       "      <td>Other</td>\n",
       "      <td>83.0</td>\n",
       "      <td>10.0</td>\n",
       "      <td>Other</td>\n",
       "      <td>Other</td>\n",
       "      <td>Other</td>\n",
       "      <td>Other</td>\n",
       "      <td>Chardonnay</td>\n",
       "    </tr>\n",
       "    <tr>\n",
       "      <th>1</th>\n",
       "      <td>wawinereport</td>\n",
       "      <td>US</td>\n",
       "      <td>North by Northwest 2014 Red (Columbia Valley (...</td>\n",
       "      <td>This wine is near equal parts Syrah and Merlot...</td>\n",
       "      <td>Other</td>\n",
       "      <td>89.0</td>\n",
       "      <td>15.0</td>\n",
       "      <td>Washington</td>\n",
       "      <td>Columbia Valley (WA)</td>\n",
       "      <td>Columbia Valley</td>\n",
       "      <td>Other</td>\n",
       "      <td>Red Blend</td>\n",
       "    </tr>\n",
       "    <tr>\n",
       "      <th>2</th>\n",
       "      <td>Other</td>\n",
       "      <td>Italy</td>\n",
       "      <td>Renato Ratti 2007 Conca  (Barolo)</td>\n",
       "      <td>Barolo Conca opens with inky dark concentratio...</td>\n",
       "      <td>Other</td>\n",
       "      <td>94.0</td>\n",
       "      <td>80.0</td>\n",
       "      <td>Piedmont</td>\n",
       "      <td>Barolo</td>\n",
       "      <td>Other</td>\n",
       "      <td>Other</td>\n",
       "      <td>Nebbiolo</td>\n",
       "    </tr>\n",
       "    <tr>\n",
       "      <th>3</th>\n",
       "      <td>vossroger</td>\n",
       "      <td>France</td>\n",
       "      <td>Domaine l'Ancienne Cure 2010 L'Abbaye White (B...</td>\n",
       "      <td>It's impressive what a small addition of Sauvi...</td>\n",
       "      <td>Other</td>\n",
       "      <td>87.0</td>\n",
       "      <td>22.0</td>\n",
       "      <td>Other</td>\n",
       "      <td>Other</td>\n",
       "      <td>Other</td>\n",
       "      <td>Other</td>\n",
       "      <td>Bordeaux-style White Blend</td>\n",
       "    </tr>\n",
       "    <tr>\n",
       "      <th>4</th>\n",
       "      <td>vossroger</td>\n",
       "      <td>France</td>\n",
       "      <td>Château du Cèdre 2012 Le Cèdre Vintage Malbec ...</td>\n",
       "      <td>This ripe, sweet wine is rich and full of drie...</td>\n",
       "      <td>Other</td>\n",
       "      <td>88.0</td>\n",
       "      <td>33.0</td>\n",
       "      <td>Other</td>\n",
       "      <td>Other</td>\n",
       "      <td>Other</td>\n",
       "      <td>Other</td>\n",
       "      <td>Malbec</td>\n",
       "    </tr>\n",
       "  </tbody>\n",
       "</table>\n",
       "</div>"
      ],
      "text/plain": [
       "      user_name country  ... winery                     variety\n",
       "0         Other   Other  ...  Other                  Chardonnay\n",
       "1  wawinereport      US  ...  Other                   Red Blend\n",
       "2         Other   Italy  ...  Other                    Nebbiolo\n",
       "3     vossroger  France  ...  Other  Bordeaux-style White Blend\n",
       "4     vossroger  France  ...  Other                      Malbec\n",
       "\n",
       "[5 rows x 12 columns]"
      ]
     },
     "execution_count": 44,
     "metadata": {
      "tags": []
     },
     "output_type": "execute_result"
    }
   ],
   "source": [
    "processed_data.head()"
   ]
  },
  {
   "cell_type": "code",
   "execution_count": 0,
   "metadata": {
    "colab": {},
    "colab_type": "code",
    "id": "Lryjis3tko6T"
   },
   "outputs": [],
   "source": [
    "target = processed_data['variety']\n",
    "\n",
    "catboost_data = processed_data.drop(columns=['review_title', 'variety', 'designation'])"
   ]
  },
  {
   "cell_type": "code",
   "execution_count": 46,
   "metadata": {
    "colab": {
     "base_uri": "https://localhost:8080/",
     "height": 195
    },
    "colab_type": "code",
    "id": "mCvvcQp9ko6V",
    "outputId": "6a32721c-2068-425e-f397-d216992226a2"
   },
   "outputs": [
    {
     "data": {
      "text/html": [
       "<div>\n",
       "<style scoped>\n",
       "    .dataframe tbody tr th:only-of-type {\n",
       "        vertical-align: middle;\n",
       "    }\n",
       "\n",
       "    .dataframe tbody tr th {\n",
       "        vertical-align: top;\n",
       "    }\n",
       "\n",
       "    .dataframe thead th {\n",
       "        text-align: right;\n",
       "    }\n",
       "</style>\n",
       "<table border=\"1\" class=\"dataframe\">\n",
       "  <thead>\n",
       "    <tr style=\"text-align: right;\">\n",
       "      <th></th>\n",
       "      <th>user_name</th>\n",
       "      <th>country</th>\n",
       "      <th>review_description</th>\n",
       "      <th>points</th>\n",
       "      <th>price</th>\n",
       "      <th>province</th>\n",
       "      <th>region_1</th>\n",
       "      <th>region_2</th>\n",
       "      <th>winery</th>\n",
       "    </tr>\n",
       "  </thead>\n",
       "  <tbody>\n",
       "    <tr>\n",
       "      <th>0</th>\n",
       "      <td>Other</td>\n",
       "      <td>Other</td>\n",
       "      <td>Classic Chardonnay aromas of apple, pear and h...</td>\n",
       "      <td>83.0</td>\n",
       "      <td>10.0</td>\n",
       "      <td>Other</td>\n",
       "      <td>Other</td>\n",
       "      <td>Other</td>\n",
       "      <td>Other</td>\n",
       "    </tr>\n",
       "    <tr>\n",
       "      <th>1</th>\n",
       "      <td>wawinereport</td>\n",
       "      <td>US</td>\n",
       "      <td>This wine is near equal parts Syrah and Merlot...</td>\n",
       "      <td>89.0</td>\n",
       "      <td>15.0</td>\n",
       "      <td>Washington</td>\n",
       "      <td>Columbia Valley (WA)</td>\n",
       "      <td>Columbia Valley</td>\n",
       "      <td>Other</td>\n",
       "    </tr>\n",
       "    <tr>\n",
       "      <th>2</th>\n",
       "      <td>Other</td>\n",
       "      <td>Italy</td>\n",
       "      <td>Barolo Conca opens with inky dark concentratio...</td>\n",
       "      <td>94.0</td>\n",
       "      <td>80.0</td>\n",
       "      <td>Piedmont</td>\n",
       "      <td>Barolo</td>\n",
       "      <td>Other</td>\n",
       "      <td>Other</td>\n",
       "    </tr>\n",
       "    <tr>\n",
       "      <th>3</th>\n",
       "      <td>vossroger</td>\n",
       "      <td>France</td>\n",
       "      <td>It's impressive what a small addition of Sauvi...</td>\n",
       "      <td>87.0</td>\n",
       "      <td>22.0</td>\n",
       "      <td>Other</td>\n",
       "      <td>Other</td>\n",
       "      <td>Other</td>\n",
       "      <td>Other</td>\n",
       "    </tr>\n",
       "    <tr>\n",
       "      <th>4</th>\n",
       "      <td>vossroger</td>\n",
       "      <td>France</td>\n",
       "      <td>This ripe, sweet wine is rich and full of drie...</td>\n",
       "      <td>88.0</td>\n",
       "      <td>33.0</td>\n",
       "      <td>Other</td>\n",
       "      <td>Other</td>\n",
       "      <td>Other</td>\n",
       "      <td>Other</td>\n",
       "    </tr>\n",
       "  </tbody>\n",
       "</table>\n",
       "</div>"
      ],
      "text/plain": [
       "      user_name country  ...         region_2  winery\n",
       "0         Other   Other  ...            Other   Other\n",
       "1  wawinereport      US  ...  Columbia Valley   Other\n",
       "2         Other   Italy  ...            Other   Other\n",
       "3     vossroger  France  ...            Other   Other\n",
       "4     vossroger  France  ...            Other   Other\n",
       "\n",
       "[5 rows x 9 columns]"
      ]
     },
     "execution_count": 46,
     "metadata": {
      "tags": []
     },
     "output_type": "execute_result"
    }
   ],
   "source": [
    "catboost_data.head()"
   ]
  },
  {
   "cell_type": "code",
   "execution_count": 0,
   "metadata": {
    "colab": {},
    "colab_type": "code",
    "id": "AgP5V-w0ko6Y"
   },
   "outputs": [],
   "source": [
    "train_x, test_x, train_y, test_y = train_test_split(catboost_data, target, test_size=.2, shuffle=True, stratify=target)\n",
    "\n",
    "train_pool = Pool(train_x, train_y, cat_features=[0, 1, 5, 6, 7, 8], text_features=[2])\n",
    "\n",
    "val_pool = Pool(test_x, test_y, cat_features=[0, 1, 5, 6, 7, 8], text_features=[2])"
   ]
  },
  {
   "cell_type": "markdown",
   "metadata": {
    "colab_type": "text",
    "id": "yJ-E_3a46mED"
   },
   "source": [
    "<b>We need to specify index of columns which contains categorical and textual data</b>"
   ]
  },
  {
   "cell_type": "code",
   "execution_count": 0,
   "metadata": {
    "colab": {},
    "colab_type": "code",
    "id": "Y6udvo17ko6Z"
   },
   "outputs": [],
   "source": [
    "params = {'iterations':100,\n",
    "          'learning_rate':0.1,\n",
    "          'eval_metric':'Accuracy',\n",
    "          'loss_function':\"MultiClass\",\n",
    "          'verbose':True,\n",
    "          'early_stopping_rounds':5,\n",
    "          'max_depth':8\n",
    "         }\n",
    "\n",
    "model = CatBoostClassifier(**params) "
   ]
  },
  {
   "cell_type": "code",
   "execution_count": 49,
   "metadata": {
    "colab": {
     "base_uri": "https://localhost:8080/",
     "height": 1000
    },
    "colab_type": "code",
    "id": "fEu2p_8xko6c",
    "outputId": "76aa16e3-5f35-4c3b-c70f-5d6105790f54"
   },
   "outputs": [
    {
     "name": "stdout",
     "output_type": "stream",
     "text": [
      "0:\tlearn: 0.1309338\ttest: 0.1406363\tbest: 0.1406363 (0)\ttotal: 46.4s\tremaining: 1h 16m 38s\n",
      "1:\tlearn: 0.1651115\ttest: 0.1719090\tbest: 0.1719090 (1)\ttotal: 1m 31s\tremaining: 1h 14m 33s\n",
      "2:\tlearn: 0.1662911\ttest: 0.1711227\tbest: 0.1719090 (1)\ttotal: 2m 17s\tremaining: 1h 14m 12s\n",
      "3:\tlearn: 0.2522949\ttest: 0.2567143\tbest: 0.2567143 (3)\ttotal: 3m 3s\tremaining: 1h 13m 12s\n",
      "4:\tlearn: 0.3536938\ttest: 0.3577910\tbest: 0.3577910 (4)\ttotal: 3m 47s\tremaining: 1h 12m 7s\n",
      "5:\tlearn: 0.3984121\ttest: 0.3956569\tbest: 0.3956569 (5)\ttotal: 4m 32s\tremaining: 1h 11m 1s\n",
      "6:\tlearn: 0.4005595\ttest: 0.4017663\tbest: 0.4017663 (6)\ttotal: 5m 14s\tremaining: 1h 9m 40s\n",
      "7:\tlearn: 0.4170284\ttest: 0.4144689\tbest: 0.4144689 (7)\ttotal: 5m 58s\tremaining: 1h 8m 38s\n",
      "8:\tlearn: 0.4395766\ttest: 0.4347326\tbest: 0.4347326 (8)\ttotal: 6m 46s\tremaining: 1h 8m 27s\n",
      "9:\tlearn: 0.4487864\ttest: 0.4454391\tbest: 0.4454391 (9)\ttotal: 7m 30s\tremaining: 1h 7m 34s\n",
      "10:\tlearn: 0.4613837\ttest: 0.4487055\tbest: 0.4487055 (10)\ttotal: 8m 13s\tremaining: 1h 6m 34s\n",
      "11:\tlearn: 0.4642722\ttest: 0.4528793\tbest: 0.4528793 (11)\ttotal: 8m 56s\tremaining: 1h 5m 30s\n",
      "12:\tlearn: 0.5129376\ttest: 0.5053230\tbest: 0.5053230 (12)\ttotal: 9m 42s\tremaining: 1h 4m 55s\n",
      "13:\tlearn: 0.5235085\ttest: 0.5182071\tbest: 0.5182071 (13)\ttotal: 10m 26s\tremaining: 1h 4m 6s\n",
      "14:\tlearn: 0.5269868\ttest: 0.5226833\tbest: 0.5226833 (14)\ttotal: 11m 9s\tremaining: 1h 3m 11s\n",
      "15:\tlearn: 0.5289376\ttest: 0.5237116\tbest: 0.5237116 (15)\ttotal: 11m 53s\tremaining: 1h 2m 25s\n",
      "16:\tlearn: 0.5362268\ttest: 0.5286717\tbest: 0.5286717 (16)\ttotal: 12m 38s\tremaining: 1h 1m 45s\n",
      "17:\tlearn: 0.5373762\ttest: 0.5311517\tbest: 0.5311517 (17)\ttotal: 13m 21s\tremaining: 1h 52s\n",
      "18:\tlearn: 0.5429263\ttest: 0.5354464\tbest: 0.5354464 (18)\ttotal: 14m 6s\tremaining: 1h 9s\n",
      "19:\tlearn: 0.5426238\ttest: 0.5364142\tbest: 0.5364142 (19)\ttotal: 14m 48s\tremaining: 59m 14s\n",
      "20:\tlearn: 0.5421096\ttest: 0.5356884\tbest: 0.5364142 (19)\ttotal: 15m 33s\tremaining: 58m 30s\n",
      "21:\tlearn: 0.5491418\ttest: 0.5407694\tbest: 0.5407694 (21)\ttotal: 16m 18s\tremaining: 57m 48s\n",
      "22:\tlearn: 0.5560378\ttest: 0.5500847\tbest: 0.5500847 (22)\ttotal: 17m 3s\tremaining: 57m 7s\n",
      "23:\tlearn: 0.5617391\ttest: 0.5549843\tbest: 0.5549843 (23)\ttotal: 17m 49s\tremaining: 56m 27s\n",
      "24:\tlearn: 0.5630548\ttest: 0.5554682\tbest: 0.5554682 (24)\ttotal: 18m 35s\tremaining: 55m 45s\n",
      "25:\tlearn: 0.5659130\ttest: 0.5574038\tbest: 0.5574038 (25)\ttotal: 19m 20s\tremaining: 55m 4s\n",
      "26:\tlearn: 0.5741550\ttest: 0.5657513\tbest: 0.5657513 (26)\ttotal: 20m 6s\tremaining: 54m 22s\n",
      "27:\tlearn: 0.5749112\ttest: 0.5667796\tbest: 0.5667796 (27)\ttotal: 20m 50s\tremaining: 53m 36s\n",
      "28:\tlearn: 0.5798866\ttest: 0.5708928\tbest: 0.5708928 (28)\ttotal: 21m 34s\tremaining: 52m 49s\n",
      "29:\tlearn: 0.5820643\ttest: 0.5733124\tbest: 0.5733124 (29)\ttotal: 22m 18s\tremaining: 52m 2s\n",
      "30:\tlearn: 0.5855577\ttest: 0.5773651\tbest: 0.5773651 (30)\ttotal: 23m 1s\tremaining: 51m 15s\n",
      "31:\tlearn: 0.5879622\ttest: 0.5783934\tbest: 0.5783934 (31)\ttotal: 23m 46s\tremaining: 50m 31s\n",
      "32:\tlearn: 0.5889301\ttest: 0.5797847\tbest: 0.5797847 (32)\ttotal: 24m 32s\tremaining: 49m 48s\n",
      "33:\tlearn: 0.5924537\ttest: 0.5843818\tbest: 0.5843818 (33)\ttotal: 25m 16s\tremaining: 49m 3s\n",
      "34:\tlearn: 0.5945558\ttest: 0.5852286\tbest: 0.5852286 (34)\ttotal: 26m 1s\tremaining: 48m 19s\n",
      "35:\tlearn: 0.5951607\ttest: 0.5866199\tbest: 0.5866199 (35)\ttotal: 26m 47s\tremaining: 47m 37s\n",
      "36:\tlearn: 0.5992439\ttest: 0.5903097\tbest: 0.5903097 (36)\ttotal: 27m 32s\tremaining: 46m 53s\n",
      "37:\tlearn: 0.6016635\ttest: 0.5927293\tbest: 0.5927293 (37)\ttotal: 28m 17s\tremaining: 46m 10s\n",
      "38:\tlearn: 0.6026011\ttest: 0.5933946\tbest: 0.5933946 (38)\ttotal: 29m 3s\tremaining: 45m 26s\n",
      "39:\tlearn: 0.6046276\ttest: 0.5958142\tbest: 0.5958142 (39)\ttotal: 29m 50s\tremaining: 44m 45s\n",
      "40:\tlearn: 0.6057769\ttest: 0.5966610\tbest: 0.5966610 (40)\ttotal: 30m 34s\tremaining: 44m\n",
      "41:\tlearn: 0.6063819\ttest: 0.5961771\tbest: 0.5966610 (40)\ttotal: 31m 17s\tremaining: 43m 12s\n",
      "42:\tlearn: 0.6068809\ttest: 0.5963586\tbest: 0.5966610 (40)\ttotal: 32m 3s\tremaining: 42m 29s\n",
      "43:\tlearn: 0.6097694\ttest: 0.5990806\tbest: 0.5990806 (43)\ttotal: 32m 48s\tremaining: 41m 45s\n",
      "44:\tlearn: 0.6124310\ttest: 0.6007743\tbest: 0.6007743 (44)\ttotal: 33m 34s\tremaining: 41m 1s\n",
      "45:\tlearn: 0.6147297\ttest: 0.6038592\tbest: 0.6038592 (45)\ttotal: 34m 20s\tremaining: 40m 19s\n",
      "46:\tlearn: 0.6164537\ttest: 0.6057948\tbest: 0.6057948 (46)\ttotal: 35m 7s\tremaining: 39m 35s\n",
      "47:\tlearn: 0.6186616\ttest: 0.6082144\tbest: 0.6082144 (47)\ttotal: 35m 53s\tremaining: 38m 52s\n",
      "48:\tlearn: 0.6213686\ttest: 0.6112388\tbest: 0.6112388 (48)\ttotal: 36m 38s\tremaining: 38m 7s\n",
      "49:\tlearn: 0.6229263\ttest: 0.6136584\tbest: 0.6136584 (49)\ttotal: 37m 25s\tremaining: 37m 25s\n",
      "50:\tlearn: 0.6237732\ttest: 0.6139003\tbest: 0.6139003 (50)\ttotal: 38m 10s\tremaining: 36m 40s\n",
      "51:\tlearn: 0.6255728\ttest: 0.6160779\tbest: 0.6160779 (51)\ttotal: 38m 54s\tremaining: 35m 54s\n",
      "52:\tlearn: 0.6277202\ttest: 0.6180740\tbest: 0.6180740 (52)\ttotal: 39m 40s\tremaining: 35m 11s\n",
      "53:\tlearn: 0.6304575\ttest: 0.6210380\tbest: 0.6210380 (53)\ttotal: 40m 26s\tremaining: 34m 26s\n",
      "54:\tlearn: 0.6336484\ttest: 0.6237600\tbest: 0.6237600 (54)\ttotal: 41m 11s\tremaining: 33m 42s\n",
      "55:\tlearn: 0.6351758\ttest: 0.6258166\tbest: 0.6258166 (55)\ttotal: 41m 57s\tremaining: 32m 58s\n",
      "56:\tlearn: 0.6365671\ttest: 0.6279337\tbest: 0.6279337 (56)\ttotal: 42m 43s\tremaining: 32m 13s\n",
      "57:\tlearn: 0.6384423\ttest: 0.6292040\tbest: 0.6292040 (57)\ttotal: 43m 29s\tremaining: 31m 29s\n",
      "58:\tlearn: 0.6402117\ttest: 0.6306557\tbest: 0.6306557 (58)\ttotal: 44m 13s\tremaining: 30m 44s\n",
      "59:\tlearn: 0.6416635\ttest: 0.6317445\tbest: 0.6317445 (59)\ttotal: 44m 58s\tremaining: 29m 59s\n",
      "60:\tlearn: 0.6431304\ttest: 0.6336801\tbest: 0.6336801 (60)\ttotal: 45m 43s\tremaining: 29m 14s\n",
      "61:\tlearn: 0.6443251\ttest: 0.6353133\tbest: 0.6353133 (61)\ttotal: 46m 28s\tremaining: 28m 29s\n",
      "62:\tlearn: 0.6449149\ttest: 0.6356763\tbest: 0.6356763 (62)\ttotal: 47m 13s\tremaining: 27m 44s\n",
      "63:\tlearn: 0.6470775\ttest: 0.6374304\tbest: 0.6374304 (63)\ttotal: 47m 58s\tremaining: 26m 59s\n",
      "64:\tlearn: 0.6480454\ttest: 0.6385192\tbest: 0.6385192 (64)\ttotal: 48m 44s\tremaining: 26m 14s\n",
      "65:\tlearn: 0.6495425\ttest: 0.6398500\tbest: 0.6398500 (65)\ttotal: 49m 30s\tremaining: 25m 30s\n",
      "66:\tlearn: 0.6506616\ttest: 0.6411203\tbest: 0.6411203 (66)\ttotal: 50m 16s\tremaining: 24m 45s\n",
      "67:\tlearn: 0.6525369\ttest: 0.6434793\tbest: 0.6434793 (67)\ttotal: 51m 1s\tremaining: 24m\n",
      "68:\tlearn: 0.6541550\ttest: 0.6451125\tbest: 0.6451125 (68)\ttotal: 51m 47s\tremaining: 23m 15s\n",
      "69:\tlearn: 0.6553497\ttest: 0.6464433\tbest: 0.6464433 (69)\ttotal: 52m 33s\tremaining: 22m 31s\n",
      "70:\tlearn: 0.6566654\ttest: 0.6477740\tbest: 0.6477740 (70)\ttotal: 53m 18s\tremaining: 21m 46s\n",
      "71:\tlearn: 0.6577391\ttest: 0.6489838\tbest: 0.6489838 (71)\ttotal: 54m 3s\tremaining: 21m 1s\n",
      "72:\tlearn: 0.6588431\ttest: 0.6501331\tbest: 0.6501331 (72)\ttotal: 54m 47s\tremaining: 20m 15s\n",
      "73:\tlearn: 0.6603251\ttest: 0.6509799\tbest: 0.6509799 (73)\ttotal: 55m 30s\tremaining: 19m 30s\n",
      "74:\tlearn: 0.6610057\ttest: 0.6517058\tbest: 0.6517058 (74)\ttotal: 56m 13s\tremaining: 18m 44s\n",
      "75:\tlearn: 0.6613837\ttest: 0.6518268\tbest: 0.6518268 (75)\ttotal: 56m 57s\tremaining: 17m 59s\n",
      "76:\tlearn: 0.6620340\ttest: 0.6527946\tbest: 0.6527946 (76)\ttotal: 57m 40s\tremaining: 17m 13s\n",
      "77:\tlearn: 0.6624726\ttest: 0.6526736\tbest: 0.6527946 (76)\ttotal: 58m 25s\tremaining: 16m 28s\n",
      "78:\tlearn: 0.6630019\ttest: 0.6530365\tbest: 0.6530365 (78)\ttotal: 59m 7s\tremaining: 15m 42s\n",
      "79:\tlearn: 0.6639093\ttest: 0.6532180\tbest: 0.6532180 (79)\ttotal: 59m 53s\tremaining: 14m 58s\n",
      "80:\tlearn: 0.6646503\ttest: 0.6546092\tbest: 0.6546092 (80)\ttotal: 1h 36s\tremaining: 14m 13s\n",
      "81:\tlearn: 0.6664197\ttest: 0.6558190\tbest: 0.6558190 (81)\ttotal: 1h 1m 18s\tremaining: 13m 27s\n",
      "82:\tlearn: 0.6669187\ttest: 0.6564844\tbest: 0.6564844 (82)\ttotal: 1h 2m 1s\tremaining: 12m 42s\n",
      "83:\tlearn: 0.6675085\ttest: 0.6567868\tbest: 0.6567868 (83)\ttotal: 1h 2m 46s\tremaining: 11m 57s\n",
      "84:\tlearn: 0.6681890\ttest: 0.6575127\tbest: 0.6575127 (84)\ttotal: 1h 3m 31s\tremaining: 11m 12s\n",
      "85:\tlearn: 0.6689452\ttest: 0.6577547\tbest: 0.6577547 (85)\ttotal: 1h 4m 16s\tremaining: 10m 27s\n",
      "86:\tlearn: 0.6695652\ttest: 0.6580571\tbest: 0.6580571 (86)\ttotal: 1h 4m 59s\tremaining: 9m 42s\n",
      "87:\tlearn: 0.6705784\ttest: 0.6589644\tbest: 0.6589644 (87)\ttotal: 1h 5m 43s\tremaining: 8m 57s\n",
      "88:\tlearn: 0.6715917\ttest: 0.6601137\tbest: 0.6601137 (88)\ttotal: 1h 6m 29s\tremaining: 8m 13s\n",
      "89:\tlearn: 0.6725142\ttest: 0.6615050\tbest: 0.6615050 (89)\ttotal: 1h 7m 14s\tremaining: 7m 28s\n",
      "90:\tlearn: 0.6730284\ttest: 0.6619889\tbest: 0.6619889 (90)\ttotal: 1h 7m 59s\tremaining: 6m 43s\n",
      "91:\tlearn: 0.6734820\ttest: 0.6627147\tbest: 0.6627147 (91)\ttotal: 1h 8m 45s\tremaining: 5m 58s\n",
      "92:\tlearn: 0.6737089\ttest: 0.6623518\tbest: 0.6627147 (91)\ttotal: 1h 9m 29s\tremaining: 5m 13s\n",
      "93:\tlearn: 0.6747826\ttest: 0.6637430\tbest: 0.6637430 (93)\ttotal: 1h 10m 16s\tremaining: 4m 29s\n",
      "94:\tlearn: 0.6759168\ttest: 0.6638035\tbest: 0.6638035 (94)\ttotal: 1h 11m 2s\tremaining: 3m 44s\n",
      "95:\tlearn: 0.6767486\ttest: 0.6653158\tbest: 0.6653158 (95)\ttotal: 1h 11m 47s\tremaining: 2m 59s\n",
      "96:\tlearn: 0.6774745\ttest: 0.6651343\tbest: 0.6653158 (95)\ttotal: 1h 12m 32s\tremaining: 2m 14s\n",
      "97:\tlearn: 0.6782457\ttest: 0.6661626\tbest: 0.6661626 (97)\ttotal: 1h 13m 18s\tremaining: 1m 29s\n",
      "98:\tlearn: 0.6788355\ttest: 0.6662836\tbest: 0.6662836 (98)\ttotal: 1h 14m 4s\tremaining: 44.9s\n",
      "99:\tlearn: 0.6794858\ttest: 0.6668280\tbest: 0.6668280 (99)\ttotal: 1h 14m 49s\tremaining: 0us\n",
      "\n",
      "bestTest = 0.66682797\n",
      "bestIteration = 99\n",
      "\n"
     ]
    },
    {
     "data": {
      "text/plain": [
       "<catboost.core.CatBoostClassifier at 0x7f8d4f024710>"
      ]
     },
     "execution_count": 49,
     "metadata": {
      "tags": []
     },
     "output_type": "execute_result"
    }
   ],
   "source": [
    "model.fit(train_pool, eval_set= val_pool, use_best_model=True)"
   ]
  },
  {
   "cell_type": "markdown",
   "metadata": {
    "colab_type": "text",
    "id": "dRguuQHdQFYQ"
   },
   "source": [
    "Training accuracy is : <b>67.5%</b>\n",
    "\n",
    "We got <b>66.7%</b> accuracy on validation data which is really greate since we had 17 different labels. "
   ]
  },
  {
   "cell_type": "code",
   "execution_count": 50,
   "metadata": {
    "colab": {
     "base_uri": "https://localhost:8080/",
     "height": 54
    },
    "colab_type": "code",
    "id": "8lKX5504ko6h",
    "outputId": "a8ace59f-bb57-46bf-ce8a-f430ddb9180f"
   },
   "outputs": [
    {
     "name": "stdout",
     "output_type": "stream",
     "text": [
      "{'nan_mode': 'Min', 'eval_metric': 'Accuracy', 'combinations_ctr': ['Borders:CtrBorderCount=15:CtrBorderType=Uniform:TargetBorderCount=27:TargetBorderType=MinEntropy:Prior=0/1:Prior=0.5/1:Prior=1/1', 'Counter:CtrBorderCount=15:CtrBorderType=Uniform:Prior=0/1'], 'iterations': 100, 'sampling_frequency': 'PerTree', 'fold_permutation_block': 0, 'leaf_estimation_method': 'Newton', 'od_pval': 0, 'counter_calc_method': 'SkipTest', 'grow_policy': 'SymmetricTree', 'penalties_coefficient': 1, 'boosting_type': 'Plain', 'model_shrink_mode': 'Constant', 'feature_border_type': 'GreedyLogSum', 'ctr_leaf_count_limit': 18446744073709551615, 'bayesian_matrix_reg': 0.10000000149011612, 'one_hot_max_size': 2, 'l2_leaf_reg': 3, 'random_strength': 1, 'od_type': 'Iter', 'rsm': 1, 'boost_from_average': False, 'max_ctr_complexity': 1, 'model_size_reg': 0.5, 'simple_ctr': ['Borders:CtrBorderCount=15:CtrBorderType=Uniform:TargetBorderCount=27:TargetBorderType=MinEntropy:Prior=0/1:Prior=0.5/1:Prior=1/1', 'Counter:CtrBorderCount=15:CtrBorderType=Uniform:Prior=0/1'], 'use_best_model': True, 'od_wait': 5, 'class_names': ['Bordeaux-style Red Blend', 'Bordeaux-style White Blend', 'Cabernet Franc', 'Cabernet Sauvignon', 'Champagne Blend', 'Chardonnay', 'Gamay', 'Gewürztraminer', 'Grüner Veltliner', 'Malbec', 'Merlot', 'Nebbiolo', 'Pinot Grigio', 'Pinot Gris', 'Pinot Noir', 'Portuguese Red', 'Portuguese White', 'Red Blend', 'Rhône-style Red Blend', 'Riesling', 'Rosé', 'Sangiovese', 'Sauvignon Blanc', 'Sparkling Blend', 'Syrah', 'Tempranillo', 'White Blend', 'Zinfandel'], 'random_seed': 0, 'depth': 8, 'ctr_target_border_count': 1, 'has_time': False, 'store_all_simple_ctr': False, 'border_count': 254, 'bagging_temperature': 1, 'classes_count': 0, 'sparse_features_conflict_fraction': 0, 'leaf_estimation_backtracking': 'AnyImprovement', 'best_model_min_trees': 1, 'model_shrink_rate': 0, 'min_data_in_leaf': 1, 'text_processing': {'dictionaries': [{'start_token_id': '0', 'occurrence_lower_bound': '5', 'skip_step': '0', 'end_of_word_token_policy': 'Insert', 'token_level_type': 'Word', 'end_of_sentence_token_policy': 'Skip', 'gram_order': '2', 'max_dictionary_size': '50000', 'dictionary_id': 'BiGram'}, {'start_token_id': '0', 'occurrence_lower_bound': '5', 'skip_step': '0', 'end_of_word_token_policy': 'Insert', 'token_level_type': 'Word', 'end_of_sentence_token_policy': 'Skip', 'gram_order': '1', 'max_dictionary_size': '50000', 'dictionary_id': 'Word'}], 'feature_processing': {'default': [{'dictionaries_names': ['BiGram', 'Word'], 'feature_calcers': ['BoW'], 'tokenizers_names': ['Space']}, {'dictionaries_names': ['Word'], 'feature_calcers': ['NaiveBayes'], 'tokenizers_names': ['Space']}]}, 'tokenizers': [{'number_token': '🔢', 'skip_empty': '1', 'number_process_policy': 'LeaveAsIs', 'tokenizer_id': 'Space', 'token_types': ['Number', 'Unknown', 'Word'], 'delimiter': ' ', 'languages': [], 'lemmatizing': '0', 'split_by_set': '0', 'lowercasing': '0', 'subtokens_policy': 'SingleToken', 'separator_type': 'ByDelimiter'}]}, 'loss_function': 'MultiClass', 'learning_rate': 0.10000000149011612, 'score_function': 'Cosine', 'task_type': 'CPU', 'leaf_estimation_iterations': 1, 'bootstrap_type': 'Bayesian', 'max_leaves': 256, 'permutation_count': 4}\n"
     ]
    }
   ],
   "source": [
    "print(model.get_all_params())"
   ]
  },
  {
   "cell_type": "code",
   "execution_count": 51,
   "metadata": {
    "colab": {
     "base_uri": "https://localhost:8080/",
     "height": 34
    },
    "colab_type": "code",
    "id": "CHYRYbwjko6p",
    "outputId": "5d770c70-7599-4577-ef52-772b1ebb2cbd"
   },
   "outputs": [
    {
     "data": {
      "text/plain": [
       "0.6755387523629489"
      ]
     },
     "execution_count": 51,
     "metadata": {
      "tags": []
     },
     "output_type": "execute_result"
    }
   ],
   "source": [
    "model.score(train_pool)"
   ]
  },
  {
   "cell_type": "code",
   "execution_count": 52,
   "metadata": {
    "colab": {
     "base_uri": "https://localhost:8080/",
     "height": 34
    },
    "colab_type": "code",
    "id": "FeJSY2cqko6v",
    "outputId": "8017ad00-3f26-44b4-f3c6-ebbbc11cc7f3"
   },
   "outputs": [
    {
     "data": {
      "text/plain": [
       "0.6668279699975804"
      ]
     },
     "execution_count": 52,
     "metadata": {
      "tags": []
     },
     "output_type": "execute_result"
    }
   ],
   "source": [
    "model.score(val_pool)"
   ]
  },
  {
   "cell_type": "code",
   "execution_count": 0,
   "metadata": {
    "colab": {},
    "colab_type": "code",
    "id": "3TkpRttuko7d"
   },
   "outputs": [],
   "source": [
    "def process_testdata_catboost(temp_data, top_values):\n",
    "    data = temp_data.copy()\n",
    "    data['price'] = np.where((data.price < 1000), data.price, data.price.median())\n",
    "    data['points'] = np.where((data.points < 100), data.points, data.points.mean())\n",
    "    \n",
    "    for column in ['user_name', 'country', 'designation', 'province', 'region_1', 'region_2', 'winery']:\n",
    "        data[column] = data[column].apply(lambda x: 'Other' if x not in top_values[column] else x)\n",
    "        \n",
    "    data['user_name'] = data['user_name'].apply(lambda x:re.sub('[^a-zA-Z ]+','',str(x)))\n",
    "    \n",
    "    data = data.drop(columns=['review_title', 'designation'])\n",
    "    \n",
    "    input_pool = Pool(data, cat_features=[0, 1, 5, 6, 7, 8], text_features=[2])\n",
    "    \n",
    "    return input_pool"
   ]
  },
  {
   "cell_type": "code",
   "execution_count": 0,
   "metadata": {
    "colab": {},
    "colab_type": "code",
    "id": "CrUG33d3rkn8"
   },
   "outputs": [],
   "source": [
    "input_test_data = process_testdata_catboost(test_data, top_values)"
   ]
  },
  {
   "cell_type": "code",
   "execution_count": 0,
   "metadata": {
    "colab": {},
    "colab_type": "code",
    "id": "pqXQQR2Pko63"
   },
   "outputs": [],
   "source": [
    "test_target = model.predict(input_test_data, prediction_type='Class')"
   ]
  },
  {
   "cell_type": "code",
   "execution_count": 93,
   "metadata": {
    "colab": {
     "base_uri": "https://localhost:8080/",
     "height": 218
    },
    "colab_type": "code",
    "id": "sdvG9TmGFFil",
    "outputId": "6057a830-d486-4459-81e9-b6cb2b46cf2a"
   },
   "outputs": [
    {
     "name": "stdout",
     "output_type": "stream",
     "text": [
      "0                Pinot Noir\n",
      "1                    Malbec\n",
      "2        Cabernet Sauvignon\n",
      "3                    Malbec\n",
      "4                Sangiovese\n",
      "                ...        \n",
      "20660            Pinot Noir\n",
      "20661                  Rosé\n",
      "20662    Cabernet Sauvignon\n",
      "20663       Sparkling Blend\n",
      "20664    Cabernet Sauvignon\n",
      "Length: 20665, dtype: object\n"
     ]
    }
   ],
   "source": [
    "test_target_series = pd.Series(test_target.flatten())\n",
    "print(test_target_series)"
   ]
  },
  {
   "cell_type": "code",
   "execution_count": 0,
   "metadata": {
    "colab": {},
    "colab_type": "code",
    "id": "inkEnRyiEVwX"
   },
   "outputs": [],
   "source": [
    "test_pred_df = pd.concat((test_data, test_target_series), axis=1)"
   ]
  },
  {
   "cell_type": "code",
   "execution_count": 98,
   "metadata": {
    "colab": {
     "base_uri": "https://localhost:8080/",
     "height": 363
    },
    "colab_type": "code",
    "id": "g34IHOBME5cw",
    "outputId": "6cdff031-724d-4914-ad41-ec3b721477c9"
   },
   "outputs": [
    {
     "data": {
      "text/html": [
       "<div>\n",
       "<style scoped>\n",
       "    .dataframe tbody tr th:only-of-type {\n",
       "        vertical-align: middle;\n",
       "    }\n",
       "\n",
       "    .dataframe tbody tr th {\n",
       "        vertical-align: top;\n",
       "    }\n",
       "\n",
       "    .dataframe thead th {\n",
       "        text-align: right;\n",
       "    }\n",
       "</style>\n",
       "<table border=\"1\" class=\"dataframe\">\n",
       "  <thead>\n",
       "    <tr style=\"text-align: right;\">\n",
       "      <th></th>\n",
       "      <th>user_name</th>\n",
       "      <th>country</th>\n",
       "      <th>review_title</th>\n",
       "      <th>review_description</th>\n",
       "      <th>designation</th>\n",
       "      <th>points</th>\n",
       "      <th>price</th>\n",
       "      <th>province</th>\n",
       "      <th>region_1</th>\n",
       "      <th>region_2</th>\n",
       "      <th>winery</th>\n",
       "      <th>variety</th>\n",
       "    </tr>\n",
       "  </thead>\n",
       "  <tbody>\n",
       "    <tr>\n",
       "      <th>0</th>\n",
       "      <td>@paulgwine</td>\n",
       "      <td>US</td>\n",
       "      <td>Boedecker Cellars 2011 Athena Pinot Noir (Will...</td>\n",
       "      <td>Nicely differentiated from the companion Stewa...</td>\n",
       "      <td>Athena</td>\n",
       "      <td>88</td>\n",
       "      <td>35.0</td>\n",
       "      <td>Oregon</td>\n",
       "      <td>Willamette Valley</td>\n",
       "      <td>Willamette Valley</td>\n",
       "      <td>Boedecker Cellars</td>\n",
       "      <td>Pinot Noir</td>\n",
       "    </tr>\n",
       "    <tr>\n",
       "      <th>1</th>\n",
       "      <td>@wineschach</td>\n",
       "      <td>Argentina</td>\n",
       "      <td>Mendoza Vineyards 2012 Gran Reserva by Richard...</td>\n",
       "      <td>Charred, smoky, herbal aromas of blackberry tr...</td>\n",
       "      <td>Gran Reserva by Richard Bonvin</td>\n",
       "      <td>90</td>\n",
       "      <td>60.0</td>\n",
       "      <td>Mendoza Province</td>\n",
       "      <td>Mendoza</td>\n",
       "      <td>NaN</td>\n",
       "      <td>Mendoza Vineyards</td>\n",
       "      <td>Malbec</td>\n",
       "    </tr>\n",
       "    <tr>\n",
       "      <th>2</th>\n",
       "      <td>@vboone</td>\n",
       "      <td>US</td>\n",
       "      <td>Prime 2013 Chardonnay (Coombsville)</td>\n",
       "      <td>Slightly sour and funky in earth, this is a re...</td>\n",
       "      <td>NaN</td>\n",
       "      <td>87</td>\n",
       "      <td>38.0</td>\n",
       "      <td>California</td>\n",
       "      <td>Coombsville</td>\n",
       "      <td>Napa</td>\n",
       "      <td>Prime</td>\n",
       "      <td>Cabernet Sauvignon</td>\n",
       "    </tr>\n",
       "    <tr>\n",
       "      <th>3</th>\n",
       "      <td>@wineschach</td>\n",
       "      <td>Argentina</td>\n",
       "      <td>Bodega Cuarto Dominio 2012 Chento Vineyard Sel...</td>\n",
       "      <td>This concentrated, midnight-black Malbec deliv...</td>\n",
       "      <td>Chento Vineyard Selection</td>\n",
       "      <td>91</td>\n",
       "      <td>20.0</td>\n",
       "      <td>Mendoza Province</td>\n",
       "      <td>Mendoza</td>\n",
       "      <td>NaN</td>\n",
       "      <td>Bodega Cuarto Dominio</td>\n",
       "      <td>Malbec</td>\n",
       "    </tr>\n",
       "    <tr>\n",
       "      <th>4</th>\n",
       "      <td>@kerinokeefe</td>\n",
       "      <td>Italy</td>\n",
       "      <td>SassodiSole 2012  Brunello di Montalcino</td>\n",
       "      <td>Earthy aromas suggesting grilled porcini, leat...</td>\n",
       "      <td>NaN</td>\n",
       "      <td>90</td>\n",
       "      <td>49.0</td>\n",
       "      <td>Tuscany</td>\n",
       "      <td>Brunello di Montalcino</td>\n",
       "      <td>NaN</td>\n",
       "      <td>SassodiSole</td>\n",
       "      <td>Sangiovese</td>\n",
       "    </tr>\n",
       "  </tbody>\n",
       "</table>\n",
       "</div>"
      ],
      "text/plain": [
       "      user_name    country  ...                 winery             variety\n",
       "0   @paulgwine          US  ...      Boedecker Cellars          Pinot Noir\n",
       "1   @wineschach  Argentina  ...      Mendoza Vineyards              Malbec\n",
       "2       @vboone         US  ...                  Prime  Cabernet Sauvignon\n",
       "3   @wineschach  Argentina  ...  Bodega Cuarto Dominio              Malbec\n",
       "4  @kerinokeefe      Italy  ...            SassodiSole          Sangiovese\n",
       "\n",
       "[5 rows x 12 columns]"
      ]
     },
     "execution_count": 98,
     "metadata": {
      "tags": []
     },
     "output_type": "execute_result"
    }
   ],
   "source": [
    "test_pred_df = test_pred_df.rename(columns = {0:'variety'})\n",
    "\n",
    "test_pred_df.head()"
   ]
  },
  {
   "cell_type": "code",
   "execution_count": 0,
   "metadata": {
    "colab": {},
    "colab_type": "code",
    "id": "G4CR2tE8D7u3"
   },
   "outputs": [],
   "source": [
    "test_pred_df.to_csv('C:/Users/RetailAdmin/Desktop/Knight ML Assignment/Data/final_wine_variety.csv', index=False) "
   ]
  },
  {
   "cell_type": "code",
   "execution_count": 0,
   "metadata": {
    "colab": {},
    "colab_type": "code",
    "id": "tNxq0mBpP_zW"
   },
   "outputs": [],
   "source": []
  }
 ],
 "metadata": {
  "colab": {
   "collapsed_sections": [],
   "name": "Machine_Learning-Assignment (Knight-FinTech).ipynb",
   "provenance": [],
   "toc_visible": true
  },
  "kernelspec": {
   "display_name": "Python 3",
   "language": "python",
   "name": "python3"
  },
  "language_info": {
   "codemirror_mode": {
    "name": "ipython",
    "version": 3
   },
   "file_extension": ".py",
   "mimetype": "text/x-python",
   "name": "python",
   "nbconvert_exporter": "python",
   "pygments_lexer": "ipython3",
   "version": "3.7.6"
  }
 },
 "nbformat": 4,
 "nbformat_minor": 1
}
